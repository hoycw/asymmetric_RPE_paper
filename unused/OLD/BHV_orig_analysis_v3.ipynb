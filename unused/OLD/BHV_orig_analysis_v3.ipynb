{
 "cells": [
  {
   "cell_type": "markdown",
   "metadata": {},
   "source": [
    "### v3:\n",
    "####-improved plotting shows RT within tolerance, fixes background coloring\n",
    "####-saves paradigm parameters, but doesn't include summary variables derived from the main info:\n",
    "#####       -reversal, post_err, score_total, hit_total, block_acc"
   ]
  },
  {
   "cell_type": "code",
   "execution_count": 1,
   "metadata": {
    "collapsed": false
   },
   "outputs": [
    {
     "name": "stderr",
     "output_type": "stream",
     "text": [
      ":0: FutureWarning: IPython widgets are experimental and may change in the future.\n"
     ]
    }
   ],
   "source": [
    "%matplotlib inline\n",
    "import sys \n",
    "import os\n",
    "import numpy as np\n",
    "import pandas as pd\n",
    "import matplotlib.pyplot as plt\n",
    "import seaborn as sns\n",
    "import scipy.io as io"
   ]
  },
  {
   "cell_type": "code",
   "execution_count": 2,
   "metadata": {
    "collapsed": false
   },
   "outputs": [],
   "source": [
    "SBJ = 'IR63'\n",
    "\n",
    "results_dir = '/Users/colinhoy/Code/PRJ_Error/results/'\n",
    "fig_type = '.png'\n",
    "log_dir = '/Users/colinhoy/Code/PRJ_Error/logs/'\n",
    "data_dir = '/Users/colinhoy/Code/PRJ_Error/data/'\n",
    "logs = {'Rana_1.6': 'Rana2_response_log_20170321103129_DATA.txt',\n",
    "        'Adi_1.7': 'adi_response_log_20170321153641.txt',\n",
    "        'IR57': '857_response_log_20170322112243_CWHedit.txt',#CWHedit added n_training, n_examples lines\n",
    "        'IR60': '60_response_log_20170613100307.txt',\n",
    "        'IR62': 'ir62_response_log_20170713124719.txt',\n",
    "        'IR63': 'IR63_response_log_20170921095757.txt',\n",
    "        'IR65': '865_response_log_20171207130759.txt',\n",
    "        'BP1': 'Pilot1_2_response_log_20170412131644.txt',\n",
    "        'BP2': 'pilot2_response_log_20170412140615.txt',\n",
    "        'BP3': 'pilot3_response_log_20170413110228.txt',\n",
    "        'BP4': 'Pilot4_2_response_log_20170418140941.txt',\n",
    "        'BP5': 'colin_real_response_log_20170412103113.txt',\n",
    "        'BP6': 'pilot_adi_response_log_20170414122257.txt',\n",
    "        'BP7': 'pilot_Rana_response_log_20170415155844.txt',\n",
    "        'BP8': 'Giao_response_log_20170419161340.txt',\n",
    "        'BP9': 'Sundberg_response_log_20170419150222.txt',\n",
    "        'CP22': '222_response_log_20170609140407.txt',\n",
    "        'CP23': '223_response_log_20170930123015.txt',\n",
    "        'CP241': '224-1_response_log_20171206121023.txt',\n",
    "        'CP242': 'cp24_2_response_log_20171209120902.txt',\n",
    "        'colin_vec': 'colin_circle_wVec_response_log_20171222141248.txt',\n",
    "        'colin_novec': 'colin_noVec_response_log_20171222142110.txt',\n",
    "        'Griffith_vec': 'Griffith_wMarker_response_log_20180107180428.txt',\n",
    "        'Griffith_novec': 'Griffith_nMarker_response_log_20180107182959.txt',\n",
    "        'Rana_vec': 'rana_vec_4real_response_log_20180118130130.txt',\n",
    "        'Rana_novec': 'rana_noVec_response_log_20180118123831.txt',\n",
    "        'Sheila_vec': 'sheila_vec_response_log_20180119105858.txt',\n",
    "        'Sheila_novec': 'sheila_novec_response_log_20180119111741.txt'\n",
    "       }"
   ]
  },
  {
   "cell_type": "markdown",
   "metadata": {},
   "source": [
    "### Load SBJ Data"
   ]
  },
  {
   "cell_type": "code",
   "execution_count": 3,
   "metadata": {
    "collapsed": false
   },
   "outputs": [],
   "source": [
    "log_filename = os.path.join(data_dir,SBJ,logs[SBJ])\n",
    "\n",
    "log_file = open(log_filename,'r')\n",
    "log = log_file.readlines()\n",
    "log_file.close()"
   ]
  },
  {
   "cell_type": "markdown",
   "metadata": {},
   "source": [
    "### Process Version-Specific Parameters"
   ]
  },
  {
   "cell_type": "code",
   "execution_count": 4,
   "metadata": {
    "collapsed": false
   },
   "outputs": [],
   "source": [
    "prdm_vars = {'timing': {},\n",
    "               'design': {}}\n",
    "for line in log:\n",
    "    # Script version\n",
    "    if line.find('paradigm_name =')!=-1:\n",
    "        prdm_vars['prdm_name'] = line[line.find('= ')+2:line.find('\\n')]\n",
    "    if line.find('paradigm_version =')!=-1:\n",
    "        prdm_vars['prdm_version'] = line[line.find('= ')+2:line.find('\\n')]\n",
    "\n",
    "    # Timing variables\n",
    "    if line.find('interval_dur =')!=-1:\n",
    "        prdm_vars['timing']['target'] = float(line[line.find('= ')+2:line.find('\\n')])\n",
    "    if line.find('feedback_delay =')!=-1:\n",
    "        prdm_vars['timing']['fb_delay'] = float(line[line.find('= ')+2:line.find('\\n')])\n",
    "    if line.find('feedback_dur =')!=-1:\n",
    "        prdm_vars['timing']['fb'] = float(line[line.find('= ')+2:line.find('\\n')])\n",
    "    \n",
    "    # ITIs and boundaries between them\n",
    "    if line.find('ITIs')!=-1:\n",
    "        prdm_vars['timing']['ITIs'] = [float(string) \\\n",
    "                    for string in line[line.find('[')+1:line.find(']')].split(',')]\n",
    "        ITI_bounds = np.mean([prdm_vars['timing']['ITIs'][:-1], prdm_vars['timing']['ITIs'][1:]],0)\n",
    "        \n",
    "    # Tolerance limits/clamps\n",
    "    if line.find('tolerance_lim')!=-1:\n",
    "        prdm_vars['timing']['tol_lim'] = [float(string) \\\n",
    "                         for string in line[line.find('[')+1:line.find(']')].split(',')]\n",
    "        \n",
    "    # Trial count variables\n",
    "    if line.find('n_blocks')!=-1:\n",
    "        prdm_vars['design']['n_blocks'] = int(line[line.find('=')+2:])\n",
    "    if line.find('n_trials')!=-1:\n",
    "        prdm_vars['design']['n_trials'] = int(line[line.find('=')+2:])\n",
    "    if line.find('n_examples')!=-1:\n",
    "        prdm_vars['design']['n_fullvis'] = int(line[line.find('=')+2:])\n",
    "    if line.find('n_fullvis')!=-1:\n",
    "        prdm_vars['design']['n_fullvis'] = int(line[line.find('=')+2:])\n",
    "    if line.find('n_training')!=-1:\n",
    "        prdm_vars['design']['n_training'] = int(line[line.find('=')+2:])\n",
    "\n",
    "prdm_vars['timing']['trl_len'] = prdm_vars['timing']['target']+\\\n",
    "            prdm_vars['timing']['fb_delay']+prdm_vars['timing']['fb']"
   ]
  },
  {
   "cell_type": "markdown",
   "metadata": {},
   "source": [
    "### Save paradigm parameters"
   ]
  },
  {
   "cell_type": "code",
   "execution_count": 5,
   "metadata": {
    "collapsed": true
   },
   "outputs": [],
   "source": [
    "prdm_filename = os.path.join(data_dir,SBJ,SBJ+'_prdm_vars.mat')\n",
    "io.savemat(prdm_filename,prdm_vars)"
   ]
  },
  {
   "cell_type": "code",
   "execution_count": 6,
   "metadata": {
    "collapsed": false
   },
   "outputs": [
    {
     "name": "stdout",
     "output_type": "stream",
     "text": [
      "paradigm:  target_time  v 1.8.7\n",
      "\n",
      "interval:  1.0 s\n",
      "feedback_delay:  0.8 s\n",
      "feedback duration:  0.8 s\n",
      "total trial length:  2.6 s\n",
      "\n",
      "n_blocks (per condition):  2\n",
      "n_trials/block:  75\n",
      "n_fullvis:  5\n",
      "n_training/condition:  15\n",
      "\n",
      "ITIs: [0.2, 0.4, 0.7, 1.0] [ 0.3   0.55  0.85]\n",
      "tolerance_lim: [0.2, 0.015]\n"
     ]
    }
   ],
   "source": [
    "print 'paradigm: ', prdm_vars['prdm_name'], ' v', prdm_vars['prdm_version']\n",
    "print\n",
    "print 'interval: ', prdm_vars['timing']['target'], 's'\n",
    "print 'feedback_delay: ', prdm_vars['timing']['fb_delay'], 's'\n",
    "print 'feedback duration: ', prdm_vars['timing']['fb'], 's'\n",
    "print 'total trial length: ', prdm_vars['timing']['trl_len'], 's'\n",
    "print\n",
    "print 'n_blocks (per condition): ', prdm_vars['design']['n_blocks']\n",
    "print 'n_trials/block: ', prdm_vars['design']['n_trials']\n",
    "print 'n_fullvis: ', prdm_vars['design']['n_fullvis']\n",
    "print 'n_training/condition: ', prdm_vars['design']['n_training']\n",
    "print\n",
    "# ITI_bounds = [np.mean(a,b) for a, b in zip(ITIs[:-1],ITIs[1:])]\n",
    "print 'ITIs:',prdm_vars['timing']['ITIs'], ITI_bounds\n",
    "print 'tolerance_lim:', prdm_vars['timing']['tol_lim']"
   ]
  },
  {
   "cell_type": "markdown",
   "metadata": {},
   "source": [
    "### Extract Trial Info"
   ]
  },
  {
   "cell_type": "code",
   "execution_count": 9,
   "metadata": {
    "collapsed": false
   },
   "outputs": [],
   "source": [
    "resp_lines = [line for line in log if line.find('Outcome=')!=-1]\n",
    "data = pd.DataFrame({'Block': [line[line.find('B')+1] for line in resp_lines],\n",
    "                     'Trial': [int(line[line.find('_T')+2:line.find(':')]) for line in resp_lines],\n",
    "                     'Condition': [line[line.find('_type')+8:line.find('_type')+12] for line in resp_lines],\n",
    "                     'Hit': [line.count('WIN') for line in resp_lines],\n",
    "                     'RT': [line[line.find('RT')+5:line.find('RT')+5+13].strip() for line in resp_lines],\n",
    "                     'Tolerance': [float(line[line.find('tol')+12:line.find('\\n')]) for line in resp_lines],\n",
    "                     'Timestamp': [float(line[:line.find('.')+4]) for line in resp_lines],\n",
    "                     'Valid': [True for _ in range(len(resp_lines))]})\n",
    "data['Score'] = [100 if data['Hit'][ix]==1 else -100 for ix in range(len(data))]"
   ]
  },
  {
   "cell_type": "code",
   "execution_count": 10,
   "metadata": {
    "collapsed": true
   },
   "outputs": [],
   "source": [
    "# Calculate ITIs\n",
    "data['ITI'] = [data['Timestamp'][ix]-data['Timestamp'][ix-1]-prdm_vars['timing']['trl_len'] if ix!=0 else 0 \\\n",
    "               for ix in range(len(data))]\n",
    "data.loc[data['Trial']==0,'ITI'] = 0\n",
    "data.loc[data['Block']==-1,'ITI'] = 0\n",
    "if len(prdm_vars['timing']['ITIs'])==4:    # target_time v1.8.5+\n",
    "    data['ITI type'] = ['short' if data['ITI'][ix]<0.5 else 'long' for ix in range(len(data))]\n",
    "    ITI_plot_order = ['short','long']\n",
    "elif len(prdm_vars['timing']['ITIs'])==3:  # target_time v1.8.4 and below\n",
    "    data['ITI type'] = ['short' if data['ITI'][ix]<ITI_bounds[0] else 'long' \\\n",
    "                        if data['ITI'][ix]>ITI_bounds[1] else 'medium'\\\n",
    "                        for ix in range(len(data))]\n",
    "    ITI_plot_order = ['short','medium','long']\n",
    "else:               # Errors for anything besides len(ITIs)==3,4\n",
    "    assert len(prdm_vars['timing']['ITIs'])==4\n",
    "            "
   ]
  },
  {
   "cell_type": "code",
   "execution_count": 11,
   "metadata": {
    "collapsed": false
   },
   "outputs": [
    {
     "data": {
      "text/html": [
       "<div>\n",
       "<table border=\"1\" class=\"dataframe\">\n",
       "  <thead>\n",
       "    <tr style=\"text-align: right;\">\n",
       "      <th></th>\n",
       "      <th>Block</th>\n",
       "      <th>Condition</th>\n",
       "      <th>Hit</th>\n",
       "      <th>RT</th>\n",
       "      <th>Timestamp</th>\n",
       "      <th>Tolerance</th>\n",
       "      <th>Trial</th>\n",
       "      <th>Valid</th>\n",
       "      <th>Score</th>\n",
       "      <th>ITI</th>\n",
       "      <th>ITI type</th>\n",
       "    </tr>\n",
       "  </thead>\n",
       "  <tbody>\n",
       "  </tbody>\n",
       "</table>\n",
       "</div>"
      ],
      "text/plain": [
       "Empty DataFrame\n",
       "Columns: [Block, Condition, Hit, RT, Timestamp, Tolerance, Trial, Valid, Score, ITI, ITI type]\n",
       "Index: []"
      ]
     },
     "execution_count": 11,
     "metadata": {},
     "output_type": "execute_result"
    }
   ],
   "source": [
    "# Checking for bad RTs?\n",
    "data.ix[data['RT']==-1]"
   ]
  },
  {
   "cell_type": "code",
   "execution_count": 12,
   "metadata": {
    "collapsed": false
   },
   "outputs": [],
   "source": [
    "# Fix Reversals, Block, and missed RTs\n",
    "for ix in range(len(data)):\n",
    "    if data['RT'][ix][0:2]=='-1':#No response\n",
    "        data.loc[ix,'RT'] = -1\n",
    "        data.loc[ix,'Score'] = 0            # !!! may change depending on version !!!!\n",
    "        data.loc[ix,'Valid'] = False\n",
    "    else:# Real Responses\n",
    "        if data['RT'][ix].find(';')!=-1:# shorter number of digits, clip ';'\n",
    "            data.loc[ix,'RT'] = float(data['RT'][ix][:data['RT'][ix].find(';')])\n",
    "        else:\n",
    "            data.loc[ix,'RT'] = float(data['RT'][ix])\n",
    "    if data['Block'][ix]=='T':# Training\n",
    "        data.loc[ix,'Block'] = -1\n",
    "        data.loc[ix,'Valid'] = False\n",
    "    else:\n",
    "        data.loc[ix,'Block'] = int(data['Block'][ix])"
   ]
  },
  {
   "cell_type": "code",
   "execution_count": 13,
   "metadata": {
    "collapsed": false,
    "scrolled": true
   },
   "outputs": [
    {
     "data": {
      "text/html": [
       "<div>\n",
       "<table border=\"1\" class=\"dataframe\">\n",
       "  <thead>\n",
       "    <tr style=\"text-align: right;\">\n",
       "      <th></th>\n",
       "      <th>Block</th>\n",
       "      <th>Condition</th>\n",
       "      <th>Hit</th>\n",
       "      <th>RT</th>\n",
       "      <th>Timestamp</th>\n",
       "      <th>Tolerance</th>\n",
       "      <th>Trial</th>\n",
       "      <th>Valid</th>\n",
       "      <th>Score</th>\n",
       "      <th>ITI</th>\n",
       "      <th>ITI type</th>\n",
       "    </tr>\n",
       "  </thead>\n",
       "  <tbody>\n",
       "    <tr>\n",
       "      <th>0</th>\n",
       "      <td>-1</td>\n",
       "      <td>easy</td>\n",
       "      <td>1</td>\n",
       "      <td>1.02838</td>\n",
       "      <td>312.998</td>\n",
       "      <td>0.125</td>\n",
       "      <td>0</td>\n",
       "      <td>False</td>\n",
       "      <td>100</td>\n",
       "      <td>0.000</td>\n",
       "      <td>short</td>\n",
       "    </tr>\n",
       "    <tr>\n",
       "      <th>1</th>\n",
       "      <td>-1</td>\n",
       "      <td>easy</td>\n",
       "      <td>1</td>\n",
       "      <td>0.957244</td>\n",
       "      <td>316.587</td>\n",
       "      <td>0.122</td>\n",
       "      <td>1</td>\n",
       "      <td>False</td>\n",
       "      <td>100</td>\n",
       "      <td>0.989</td>\n",
       "      <td>long</td>\n",
       "    </tr>\n",
       "    <tr>\n",
       "      <th>2</th>\n",
       "      <td>-1</td>\n",
       "      <td>easy</td>\n",
       "      <td>1</td>\n",
       "      <td>0.996262</td>\n",
       "      <td>320.192</td>\n",
       "      <td>0.119</td>\n",
       "      <td>2</td>\n",
       "      <td>False</td>\n",
       "      <td>100</td>\n",
       "      <td>1.005</td>\n",
       "      <td>long</td>\n",
       "    </tr>\n",
       "    <tr>\n",
       "      <th>3</th>\n",
       "      <td>-1</td>\n",
       "      <td>easy</td>\n",
       "      <td>1</td>\n",
       "      <td>0.918451</td>\n",
       "      <td>323.798</td>\n",
       "      <td>0.116</td>\n",
       "      <td>3</td>\n",
       "      <td>False</td>\n",
       "      <td>100</td>\n",
       "      <td>1.006</td>\n",
       "      <td>long</td>\n",
       "    </tr>\n",
       "    <tr>\n",
       "      <th>4</th>\n",
       "      <td>-1</td>\n",
       "      <td>easy</td>\n",
       "      <td>1</td>\n",
       "      <td>0.907438</td>\n",
       "      <td>327.387</td>\n",
       "      <td>0.113</td>\n",
       "      <td>4</td>\n",
       "      <td>False</td>\n",
       "      <td>100</td>\n",
       "      <td>0.989</td>\n",
       "      <td>long</td>\n",
       "    </tr>\n",
       "    <tr>\n",
       "      <th>5</th>\n",
       "      <td>-1</td>\n",
       "      <td>easy</td>\n",
       "      <td>0</td>\n",
       "      <td>-1</td>\n",
       "      <td>344.347</td>\n",
       "      <td>0.110</td>\n",
       "      <td>5</td>\n",
       "      <td>False</td>\n",
       "      <td>0</td>\n",
       "      <td>14.360</td>\n",
       "      <td>long</td>\n",
       "    </tr>\n",
       "    <tr>\n",
       "      <th>6</th>\n",
       "      <td>-1</td>\n",
       "      <td>easy</td>\n",
       "      <td>0</td>\n",
       "      <td>-1</td>\n",
       "      <td>347.936</td>\n",
       "      <td>0.110</td>\n",
       "      <td>6</td>\n",
       "      <td>False</td>\n",
       "      <td>0</td>\n",
       "      <td>0.989</td>\n",
       "      <td>long</td>\n",
       "    </tr>\n",
       "    <tr>\n",
       "      <th>7</th>\n",
       "      <td>-1</td>\n",
       "      <td>easy</td>\n",
       "      <td>0</td>\n",
       "      <td>-1</td>\n",
       "      <td>351.542</td>\n",
       "      <td>0.110</td>\n",
       "      <td>7</td>\n",
       "      <td>False</td>\n",
       "      <td>0</td>\n",
       "      <td>1.006</td>\n",
       "      <td>long</td>\n",
       "    </tr>\n",
       "    <tr>\n",
       "      <th>8</th>\n",
       "      <td>-1</td>\n",
       "      <td>easy</td>\n",
       "      <td>0</td>\n",
       "      <td>-1</td>\n",
       "      <td>355.148</td>\n",
       "      <td>0.110</td>\n",
       "      <td>8</td>\n",
       "      <td>False</td>\n",
       "      <td>0</td>\n",
       "      <td>1.006</td>\n",
       "      <td>long</td>\n",
       "    </tr>\n",
       "    <tr>\n",
       "      <th>9</th>\n",
       "      <td>-1</td>\n",
       "      <td>easy</td>\n",
       "      <td>0</td>\n",
       "      <td>0.419421</td>\n",
       "      <td>358.737</td>\n",
       "      <td>0.110</td>\n",
       "      <td>9</td>\n",
       "      <td>False</td>\n",
       "      <td>-100</td>\n",
       "      <td>0.989</td>\n",
       "      <td>long</td>\n",
       "    </tr>\n",
       "    <tr>\n",
       "      <th>10</th>\n",
       "      <td>-1</td>\n",
       "      <td>easy</td>\n",
       "      <td>0</td>\n",
       "      <td>0.409412</td>\n",
       "      <td>362.342</td>\n",
       "      <td>0.122</td>\n",
       "      <td>10</td>\n",
       "      <td>False</td>\n",
       "      <td>-100</td>\n",
       "      <td>1.005</td>\n",
       "      <td>long</td>\n",
       "    </tr>\n",
       "    <tr>\n",
       "      <th>11</th>\n",
       "      <td>-1</td>\n",
       "      <td>easy</td>\n",
       "      <td>0</td>\n",
       "      <td>0.41405</td>\n",
       "      <td>365.948</td>\n",
       "      <td>0.134</td>\n",
       "      <td>11</td>\n",
       "      <td>False</td>\n",
       "      <td>-100</td>\n",
       "      <td>1.006</td>\n",
       "      <td>long</td>\n",
       "    </tr>\n",
       "    <tr>\n",
       "      <th>12</th>\n",
       "      <td>-1</td>\n",
       "      <td>easy</td>\n",
       "      <td>0</td>\n",
       "      <td>-1</td>\n",
       "      <td>369.537</td>\n",
       "      <td>0.146</td>\n",
       "      <td>12</td>\n",
       "      <td>False</td>\n",
       "      <td>0</td>\n",
       "      <td>0.989</td>\n",
       "      <td>long</td>\n",
       "    </tr>\n",
       "    <tr>\n",
       "      <th>13</th>\n",
       "      <td>-1</td>\n",
       "      <td>easy</td>\n",
       "      <td>0</td>\n",
       "      <td>0.471956</td>\n",
       "      <td>373.143</td>\n",
       "      <td>0.146</td>\n",
       "      <td>13</td>\n",
       "      <td>False</td>\n",
       "      <td>-100</td>\n",
       "      <td>1.006</td>\n",
       "      <td>long</td>\n",
       "    </tr>\n",
       "    <tr>\n",
       "      <th>14</th>\n",
       "      <td>-1</td>\n",
       "      <td>easy</td>\n",
       "      <td>0</td>\n",
       "      <td>0.446829</td>\n",
       "      <td>376.748</td>\n",
       "      <td>0.158</td>\n",
       "      <td>14</td>\n",
       "      <td>False</td>\n",
       "      <td>-100</td>\n",
       "      <td>1.005</td>\n",
       "      <td>long</td>\n",
       "    </tr>\n",
       "    <tr>\n",
       "      <th>15</th>\n",
       "      <td>-1</td>\n",
       "      <td>easy</td>\n",
       "      <td>0</td>\n",
       "      <td>1.19878</td>\n",
       "      <td>380.337</td>\n",
       "      <td>0.170</td>\n",
       "      <td>15</td>\n",
       "      <td>False</td>\n",
       "      <td>-100</td>\n",
       "      <td>0.989</td>\n",
       "      <td>long</td>\n",
       "    </tr>\n",
       "    <tr>\n",
       "      <th>16</th>\n",
       "      <td>-1</td>\n",
       "      <td>easy</td>\n",
       "      <td>0</td>\n",
       "      <td>1.48319</td>\n",
       "      <td>383.943</td>\n",
       "      <td>0.182</td>\n",
       "      <td>16</td>\n",
       "      <td>False</td>\n",
       "      <td>-100</td>\n",
       "      <td>1.006</td>\n",
       "      <td>long</td>\n",
       "    </tr>\n",
       "    <tr>\n",
       "      <th>17</th>\n",
       "      <td>-1</td>\n",
       "      <td>easy</td>\n",
       "      <td>1</td>\n",
       "      <td>1.00117</td>\n",
       "      <td>387.549</td>\n",
       "      <td>0.194</td>\n",
       "      <td>17</td>\n",
       "      <td>False</td>\n",
       "      <td>100</td>\n",
       "      <td>1.006</td>\n",
       "      <td>long</td>\n",
       "    </tr>\n",
       "    <tr>\n",
       "      <th>18</th>\n",
       "      <td>-1</td>\n",
       "      <td>easy</td>\n",
       "      <td>1</td>\n",
       "      <td>1.02679</td>\n",
       "      <td>391.138</td>\n",
       "      <td>0.191</td>\n",
       "      <td>18</td>\n",
       "      <td>False</td>\n",
       "      <td>100</td>\n",
       "      <td>0.989</td>\n",
       "      <td>long</td>\n",
       "    </tr>\n",
       "    <tr>\n",
       "      <th>19</th>\n",
       "      <td>-1</td>\n",
       "      <td>easy</td>\n",
       "      <td>1</td>\n",
       "      <td>0.94295</td>\n",
       "      <td>394.743</td>\n",
       "      <td>0.188</td>\n",
       "      <td>19</td>\n",
       "      <td>False</td>\n",
       "      <td>100</td>\n",
       "      <td>1.005</td>\n",
       "      <td>long</td>\n",
       "    </tr>\n",
       "    <tr>\n",
       "      <th>20</th>\n",
       "      <td>-1</td>\n",
       "      <td>hard</td>\n",
       "      <td>0</td>\n",
       "      <td>-1</td>\n",
       "      <td>408.331</td>\n",
       "      <td>0.050</td>\n",
       "      <td>20</td>\n",
       "      <td>False</td>\n",
       "      <td>0</td>\n",
       "      <td>10.988</td>\n",
       "      <td>long</td>\n",
       "    </tr>\n",
       "    <tr>\n",
       "      <th>21</th>\n",
       "      <td>-1</td>\n",
       "      <td>hard</td>\n",
       "      <td>0</td>\n",
       "      <td>0.924717</td>\n",
       "      <td>411.920</td>\n",
       "      <td>0.050</td>\n",
       "      <td>21</td>\n",
       "      <td>False</td>\n",
       "      <td>-100</td>\n",
       "      <td>0.989</td>\n",
       "      <td>long</td>\n",
       "    </tr>\n",
       "    <tr>\n",
       "      <th>22</th>\n",
       "      <td>-1</td>\n",
       "      <td>hard</td>\n",
       "      <td>1</td>\n",
       "      <td>0.951272</td>\n",
       "      <td>415.526</td>\n",
       "      <td>0.053</td>\n",
       "      <td>22</td>\n",
       "      <td>False</td>\n",
       "      <td>100</td>\n",
       "      <td>1.006</td>\n",
       "      <td>long</td>\n",
       "    </tr>\n",
       "    <tr>\n",
       "      <th>23</th>\n",
       "      <td>-1</td>\n",
       "      <td>hard</td>\n",
       "      <td>1</td>\n",
       "      <td>1.03839</td>\n",
       "      <td>419.132</td>\n",
       "      <td>0.041</td>\n",
       "      <td>23</td>\n",
       "      <td>False</td>\n",
       "      <td>100</td>\n",
       "      <td>1.006</td>\n",
       "      <td>long</td>\n",
       "    </tr>\n",
       "    <tr>\n",
       "      <th>24</th>\n",
       "      <td>-1</td>\n",
       "      <td>hard</td>\n",
       "      <td>0</td>\n",
       "      <td>1.05496</td>\n",
       "      <td>422.721</td>\n",
       "      <td>0.029</td>\n",
       "      <td>24</td>\n",
       "      <td>False</td>\n",
       "      <td>-100</td>\n",
       "      <td>0.989</td>\n",
       "      <td>long</td>\n",
       "    </tr>\n",
       "    <tr>\n",
       "      <th>25</th>\n",
       "      <td>-1</td>\n",
       "      <td>hard</td>\n",
       "      <td>1</td>\n",
       "      <td>1.00251</td>\n",
       "      <td>426.326</td>\n",
       "      <td>0.032</td>\n",
       "      <td>25</td>\n",
       "      <td>False</td>\n",
       "      <td>100</td>\n",
       "      <td>1.005</td>\n",
       "      <td>long</td>\n",
       "    </tr>\n",
       "    <tr>\n",
       "      <th>26</th>\n",
       "      <td>-1</td>\n",
       "      <td>hard</td>\n",
       "      <td>0</td>\n",
       "      <td>1.02985</td>\n",
       "      <td>429.932</td>\n",
       "      <td>0.020</td>\n",
       "      <td>26</td>\n",
       "      <td>False</td>\n",
       "      <td>-100</td>\n",
       "      <td>1.006</td>\n",
       "      <td>long</td>\n",
       "    </tr>\n",
       "    <tr>\n",
       "      <th>27</th>\n",
       "      <td>-1</td>\n",
       "      <td>hard</td>\n",
       "      <td>0</td>\n",
       "      <td>0.878071</td>\n",
       "      <td>433.521</td>\n",
       "      <td>0.023</td>\n",
       "      <td>27</td>\n",
       "      <td>False</td>\n",
       "      <td>-100</td>\n",
       "      <td>0.989</td>\n",
       "      <td>long</td>\n",
       "    </tr>\n",
       "    <tr>\n",
       "      <th>28</th>\n",
       "      <td>-1</td>\n",
       "      <td>hard</td>\n",
       "      <td>1</td>\n",
       "      <td>1.0159</td>\n",
       "      <td>437.127</td>\n",
       "      <td>0.026</td>\n",
       "      <td>28</td>\n",
       "      <td>False</td>\n",
       "      <td>100</td>\n",
       "      <td>1.006</td>\n",
       "      <td>long</td>\n",
       "    </tr>\n",
       "    <tr>\n",
       "      <th>29</th>\n",
       "      <td>-1</td>\n",
       "      <td>hard</td>\n",
       "      <td>0</td>\n",
       "      <td>1.24389</td>\n",
       "      <td>440.733</td>\n",
       "      <td>0.015</td>\n",
       "      <td>29</td>\n",
       "      <td>False</td>\n",
       "      <td>-100</td>\n",
       "      <td>1.006</td>\n",
       "      <td>long</td>\n",
       "    </tr>\n",
       "    <tr>\n",
       "      <th>...</th>\n",
       "      <td>...</td>\n",
       "      <td>...</td>\n",
       "      <td>...</td>\n",
       "      <td>...</td>\n",
       "      <td>...</td>\n",
       "      <td>...</td>\n",
       "      <td>...</td>\n",
       "      <td>...</td>\n",
       "      <td>...</td>\n",
       "      <td>...</td>\n",
       "      <td>...</td>\n",
       "    </tr>\n",
       "    <tr>\n",
       "      <th>305</th>\n",
       "      <td>3</td>\n",
       "      <td>hard</td>\n",
       "      <td>0</td>\n",
       "      <td>0.299447</td>\n",
       "      <td>1491.489</td>\n",
       "      <td>0.200</td>\n",
       "      <td>45</td>\n",
       "      <td>True</td>\n",
       "      <td>-100</td>\n",
       "      <td>0.405</td>\n",
       "      <td>short</td>\n",
       "    </tr>\n",
       "    <tr>\n",
       "      <th>306</th>\n",
       "      <td>3</td>\n",
       "      <td>hard</td>\n",
       "      <td>0</td>\n",
       "      <td>0.370959</td>\n",
       "      <td>1494.477</td>\n",
       "      <td>0.200</td>\n",
       "      <td>46</td>\n",
       "      <td>True</td>\n",
       "      <td>-100</td>\n",
       "      <td>0.388</td>\n",
       "      <td>short</td>\n",
       "    </tr>\n",
       "    <tr>\n",
       "      <th>307</th>\n",
       "      <td>3</td>\n",
       "      <td>hard</td>\n",
       "      <td>0</td>\n",
       "      <td>0.393339</td>\n",
       "      <td>1498.083</td>\n",
       "      <td>0.200</td>\n",
       "      <td>47</td>\n",
       "      <td>True</td>\n",
       "      <td>-100</td>\n",
       "      <td>1.006</td>\n",
       "      <td>long</td>\n",
       "    </tr>\n",
       "    <tr>\n",
       "      <th>308</th>\n",
       "      <td>3</td>\n",
       "      <td>hard</td>\n",
       "      <td>0</td>\n",
       "      <td>0.364286</td>\n",
       "      <td>1500.887</td>\n",
       "      <td>0.200</td>\n",
       "      <td>48</td>\n",
       "      <td>True</td>\n",
       "      <td>-100</td>\n",
       "      <td>0.204</td>\n",
       "      <td>short</td>\n",
       "    </tr>\n",
       "    <tr>\n",
       "      <th>309</th>\n",
       "      <td>3</td>\n",
       "      <td>hard</td>\n",
       "      <td>0</td>\n",
       "      <td>0.335816</td>\n",
       "      <td>1503.892</td>\n",
       "      <td>0.200</td>\n",
       "      <td>49</td>\n",
       "      <td>True</td>\n",
       "      <td>-100</td>\n",
       "      <td>0.405</td>\n",
       "      <td>short</td>\n",
       "    </tr>\n",
       "    <tr>\n",
       "      <th>310</th>\n",
       "      <td>3</td>\n",
       "      <td>hard</td>\n",
       "      <td>0</td>\n",
       "      <td>0.411033</td>\n",
       "      <td>1507.481</td>\n",
       "      <td>0.200</td>\n",
       "      <td>50</td>\n",
       "      <td>True</td>\n",
       "      <td>-100</td>\n",
       "      <td>0.989</td>\n",
       "      <td>long</td>\n",
       "    </tr>\n",
       "    <tr>\n",
       "      <th>311</th>\n",
       "      <td>3</td>\n",
       "      <td>hard</td>\n",
       "      <td>1</td>\n",
       "      <td>0.836928</td>\n",
       "      <td>1510.486</td>\n",
       "      <td>0.200</td>\n",
       "      <td>51</td>\n",
       "      <td>True</td>\n",
       "      <td>100</td>\n",
       "      <td>0.405</td>\n",
       "      <td>short</td>\n",
       "    </tr>\n",
       "    <tr>\n",
       "      <th>312</th>\n",
       "      <td>3</td>\n",
       "      <td>hard</td>\n",
       "      <td>0</td>\n",
       "      <td>0.451394</td>\n",
       "      <td>1513.791</td>\n",
       "      <td>0.188</td>\n",
       "      <td>52</td>\n",
       "      <td>True</td>\n",
       "      <td>-100</td>\n",
       "      <td>0.705</td>\n",
       "      <td>long</td>\n",
       "    </tr>\n",
       "    <tr>\n",
       "      <th>313</th>\n",
       "      <td>3</td>\n",
       "      <td>hard</td>\n",
       "      <td>0</td>\n",
       "      <td>0.3225</td>\n",
       "      <td>1516.779</td>\n",
       "      <td>0.191</td>\n",
       "      <td>53</td>\n",
       "      <td>True</td>\n",
       "      <td>-100</td>\n",
       "      <td>0.388</td>\n",
       "      <td>short</td>\n",
       "    </tr>\n",
       "    <tr>\n",
       "      <th>314</th>\n",
       "      <td>3</td>\n",
       "      <td>hard</td>\n",
       "      <td>0</td>\n",
       "      <td>-1</td>\n",
       "      <td>1520.385</td>\n",
       "      <td>0.194</td>\n",
       "      <td>54</td>\n",
       "      <td>False</td>\n",
       "      <td>0</td>\n",
       "      <td>1.006</td>\n",
       "      <td>long</td>\n",
       "    </tr>\n",
       "    <tr>\n",
       "      <th>315</th>\n",
       "      <td>3</td>\n",
       "      <td>hard</td>\n",
       "      <td>0</td>\n",
       "      <td>0.349227</td>\n",
       "      <td>1523.189</td>\n",
       "      <td>0.194</td>\n",
       "      <td>55</td>\n",
       "      <td>True</td>\n",
       "      <td>-100</td>\n",
       "      <td>0.204</td>\n",
       "      <td>short</td>\n",
       "    </tr>\n",
       "    <tr>\n",
       "      <th>316</th>\n",
       "      <td>3</td>\n",
       "      <td>hard</td>\n",
       "      <td>0</td>\n",
       "      <td>0.253778</td>\n",
       "      <td>1526.177</td>\n",
       "      <td>0.197</td>\n",
       "      <td>56</td>\n",
       "      <td>True</td>\n",
       "      <td>-100</td>\n",
       "      <td>0.388</td>\n",
       "      <td>short</td>\n",
       "    </tr>\n",
       "    <tr>\n",
       "      <th>317</th>\n",
       "      <td>3</td>\n",
       "      <td>hard</td>\n",
       "      <td>0</td>\n",
       "      <td>0.359067</td>\n",
       "      <td>1529.482</td>\n",
       "      <td>0.200</td>\n",
       "      <td>57</td>\n",
       "      <td>True</td>\n",
       "      <td>-100</td>\n",
       "      <td>0.705</td>\n",
       "      <td>long</td>\n",
       "    </tr>\n",
       "    <tr>\n",
       "      <th>318</th>\n",
       "      <td>3</td>\n",
       "      <td>hard</td>\n",
       "      <td>0</td>\n",
       "      <td>0.346758</td>\n",
       "      <td>1532.287</td>\n",
       "      <td>0.200</td>\n",
       "      <td>58</td>\n",
       "      <td>True</td>\n",
       "      <td>-100</td>\n",
       "      <td>0.205</td>\n",
       "      <td>short</td>\n",
       "    </tr>\n",
       "    <tr>\n",
       "      <th>319</th>\n",
       "      <td>3</td>\n",
       "      <td>hard</td>\n",
       "      <td>0</td>\n",
       "      <td>0.368707</td>\n",
       "      <td>1535.592</td>\n",
       "      <td>0.200</td>\n",
       "      <td>59</td>\n",
       "      <td>True</td>\n",
       "      <td>-100</td>\n",
       "      <td>0.705</td>\n",
       "      <td>long</td>\n",
       "    </tr>\n",
       "    <tr>\n",
       "      <th>320</th>\n",
       "      <td>3</td>\n",
       "      <td>hard</td>\n",
       "      <td>0</td>\n",
       "      <td>0.442427</td>\n",
       "      <td>1538.380</td>\n",
       "      <td>0.200</td>\n",
       "      <td>60</td>\n",
       "      <td>True</td>\n",
       "      <td>-100</td>\n",
       "      <td>0.188</td>\n",
       "      <td>short</td>\n",
       "    </tr>\n",
       "    <tr>\n",
       "      <th>321</th>\n",
       "      <td>3</td>\n",
       "      <td>hard</td>\n",
       "      <td>0</td>\n",
       "      <td>0.377436</td>\n",
       "      <td>1541.184</td>\n",
       "      <td>0.200</td>\n",
       "      <td>61</td>\n",
       "      <td>True</td>\n",
       "      <td>-100</td>\n",
       "      <td>0.204</td>\n",
       "      <td>short</td>\n",
       "    </tr>\n",
       "    <tr>\n",
       "      <th>322</th>\n",
       "      <td>3</td>\n",
       "      <td>hard</td>\n",
       "      <td>0</td>\n",
       "      <td>0.26534</td>\n",
       "      <td>1544.189</td>\n",
       "      <td>0.200</td>\n",
       "      <td>62</td>\n",
       "      <td>True</td>\n",
       "      <td>-100</td>\n",
       "      <td>0.405</td>\n",
       "      <td>short</td>\n",
       "    </tr>\n",
       "    <tr>\n",
       "      <th>323</th>\n",
       "      <td>3</td>\n",
       "      <td>hard</td>\n",
       "      <td>0</td>\n",
       "      <td>0.319762</td>\n",
       "      <td>1546.977</td>\n",
       "      <td>0.200</td>\n",
       "      <td>63</td>\n",
       "      <td>True</td>\n",
       "      <td>-100</td>\n",
       "      <td>0.188</td>\n",
       "      <td>short</td>\n",
       "    </tr>\n",
       "    <tr>\n",
       "      <th>324</th>\n",
       "      <td>3</td>\n",
       "      <td>hard</td>\n",
       "      <td>0</td>\n",
       "      <td>0.341669</td>\n",
       "      <td>1550.282</td>\n",
       "      <td>0.200</td>\n",
       "      <td>64</td>\n",
       "      <td>True</td>\n",
       "      <td>-100</td>\n",
       "      <td>0.705</td>\n",
       "      <td>long</td>\n",
       "    </tr>\n",
       "    <tr>\n",
       "      <th>325</th>\n",
       "      <td>3</td>\n",
       "      <td>hard</td>\n",
       "      <td>0</td>\n",
       "      <td>0.230435</td>\n",
       "      <td>1553.888</td>\n",
       "      <td>0.200</td>\n",
       "      <td>65</td>\n",
       "      <td>True</td>\n",
       "      <td>-100</td>\n",
       "      <td>1.006</td>\n",
       "      <td>long</td>\n",
       "    </tr>\n",
       "    <tr>\n",
       "      <th>326</th>\n",
       "      <td>3</td>\n",
       "      <td>hard</td>\n",
       "      <td>0</td>\n",
       "      <td>0.301628</td>\n",
       "      <td>1556.692</td>\n",
       "      <td>0.200</td>\n",
       "      <td>66</td>\n",
       "      <td>True</td>\n",
       "      <td>-100</td>\n",
       "      <td>0.204</td>\n",
       "      <td>short</td>\n",
       "    </tr>\n",
       "    <tr>\n",
       "      <th>327</th>\n",
       "      <td>3</td>\n",
       "      <td>hard</td>\n",
       "      <td>0</td>\n",
       "      <td>0.34057</td>\n",
       "      <td>1560.281</td>\n",
       "      <td>0.200</td>\n",
       "      <td>67</td>\n",
       "      <td>True</td>\n",
       "      <td>-100</td>\n",
       "      <td>0.989</td>\n",
       "      <td>long</td>\n",
       "    </tr>\n",
       "    <tr>\n",
       "      <th>328</th>\n",
       "      <td>3</td>\n",
       "      <td>hard</td>\n",
       "      <td>0</td>\n",
       "      <td>0.31168</td>\n",
       "      <td>1563.085</td>\n",
       "      <td>0.200</td>\n",
       "      <td>68</td>\n",
       "      <td>True</td>\n",
       "      <td>-100</td>\n",
       "      <td>0.204</td>\n",
       "      <td>short</td>\n",
       "    </tr>\n",
       "    <tr>\n",
       "      <th>329</th>\n",
       "      <td>3</td>\n",
       "      <td>hard</td>\n",
       "      <td>0</td>\n",
       "      <td>0.36738</td>\n",
       "      <td>1566.691</td>\n",
       "      <td>0.200</td>\n",
       "      <td>69</td>\n",
       "      <td>True</td>\n",
       "      <td>-100</td>\n",
       "      <td>1.006</td>\n",
       "      <td>long</td>\n",
       "    </tr>\n",
       "    <tr>\n",
       "      <th>330</th>\n",
       "      <td>3</td>\n",
       "      <td>hard</td>\n",
       "      <td>0</td>\n",
       "      <td>0.339157</td>\n",
       "      <td>1569.980</td>\n",
       "      <td>0.200</td>\n",
       "      <td>70</td>\n",
       "      <td>True</td>\n",
       "      <td>-100</td>\n",
       "      <td>0.689</td>\n",
       "      <td>long</td>\n",
       "    </tr>\n",
       "    <tr>\n",
       "      <th>331</th>\n",
       "      <td>3</td>\n",
       "      <td>hard</td>\n",
       "      <td>0</td>\n",
       "      <td>0.411129</td>\n",
       "      <td>1573.285</td>\n",
       "      <td>0.200</td>\n",
       "      <td>71</td>\n",
       "      <td>True</td>\n",
       "      <td>-100</td>\n",
       "      <td>0.705</td>\n",
       "      <td>long</td>\n",
       "    </tr>\n",
       "    <tr>\n",
       "      <th>332</th>\n",
       "      <td>3</td>\n",
       "      <td>hard</td>\n",
       "      <td>0</td>\n",
       "      <td>0.248831</td>\n",
       "      <td>1576.290</td>\n",
       "      <td>0.200</td>\n",
       "      <td>72</td>\n",
       "      <td>True</td>\n",
       "      <td>-100</td>\n",
       "      <td>0.405</td>\n",
       "      <td>short</td>\n",
       "    </tr>\n",
       "    <tr>\n",
       "      <th>333</th>\n",
       "      <td>3</td>\n",
       "      <td>hard</td>\n",
       "      <td>0</td>\n",
       "      <td>0.404778</td>\n",
       "      <td>1579.879</td>\n",
       "      <td>0.200</td>\n",
       "      <td>73</td>\n",
       "      <td>True</td>\n",
       "      <td>-100</td>\n",
       "      <td>0.989</td>\n",
       "      <td>long</td>\n",
       "    </tr>\n",
       "    <tr>\n",
       "      <th>334</th>\n",
       "      <td>3</td>\n",
       "      <td>hard</td>\n",
       "      <td>0</td>\n",
       "      <td>0.343659</td>\n",
       "      <td>1583.484</td>\n",
       "      <td>0.200</td>\n",
       "      <td>74</td>\n",
       "      <td>True</td>\n",
       "      <td>-100</td>\n",
       "      <td>1.005</td>\n",
       "      <td>long</td>\n",
       "    </tr>\n",
       "  </tbody>\n",
       "</table>\n",
       "<p>335 rows × 11 columns</p>\n",
       "</div>"
      ],
      "text/plain": [
       "    Block Condition  Hit        RT  Timestamp  Tolerance  Trial  Valid  Score  \\\n",
       "0      -1      easy    1   1.02838    312.998      0.125      0  False    100   \n",
       "1      -1      easy    1  0.957244    316.587      0.122      1  False    100   \n",
       "2      -1      easy    1  0.996262    320.192      0.119      2  False    100   \n",
       "3      -1      easy    1  0.918451    323.798      0.116      3  False    100   \n",
       "4      -1      easy    1  0.907438    327.387      0.113      4  False    100   \n",
       "5      -1      easy    0        -1    344.347      0.110      5  False      0   \n",
       "6      -1      easy    0        -1    347.936      0.110      6  False      0   \n",
       "7      -1      easy    0        -1    351.542      0.110      7  False      0   \n",
       "8      -1      easy    0        -1    355.148      0.110      8  False      0   \n",
       "9      -1      easy    0  0.419421    358.737      0.110      9  False   -100   \n",
       "10     -1      easy    0  0.409412    362.342      0.122     10  False   -100   \n",
       "11     -1      easy    0   0.41405    365.948      0.134     11  False   -100   \n",
       "12     -1      easy    0        -1    369.537      0.146     12  False      0   \n",
       "13     -1      easy    0  0.471956    373.143      0.146     13  False   -100   \n",
       "14     -1      easy    0  0.446829    376.748      0.158     14  False   -100   \n",
       "15     -1      easy    0   1.19878    380.337      0.170     15  False   -100   \n",
       "16     -1      easy    0   1.48319    383.943      0.182     16  False   -100   \n",
       "17     -1      easy    1   1.00117    387.549      0.194     17  False    100   \n",
       "18     -1      easy    1   1.02679    391.138      0.191     18  False    100   \n",
       "19     -1      easy    1   0.94295    394.743      0.188     19  False    100   \n",
       "20     -1      hard    0        -1    408.331      0.050     20  False      0   \n",
       "21     -1      hard    0  0.924717    411.920      0.050     21  False   -100   \n",
       "22     -1      hard    1  0.951272    415.526      0.053     22  False    100   \n",
       "23     -1      hard    1   1.03839    419.132      0.041     23  False    100   \n",
       "24     -1      hard    0   1.05496    422.721      0.029     24  False   -100   \n",
       "25     -1      hard    1   1.00251    426.326      0.032     25  False    100   \n",
       "26     -1      hard    0   1.02985    429.932      0.020     26  False   -100   \n",
       "27     -1      hard    0  0.878071    433.521      0.023     27  False   -100   \n",
       "28     -1      hard    1    1.0159    437.127      0.026     28  False    100   \n",
       "29     -1      hard    0   1.24389    440.733      0.015     29  False   -100   \n",
       "..    ...       ...  ...       ...        ...        ...    ...    ...    ...   \n",
       "305     3      hard    0  0.299447   1491.489      0.200     45   True   -100   \n",
       "306     3      hard    0  0.370959   1494.477      0.200     46   True   -100   \n",
       "307     3      hard    0  0.393339   1498.083      0.200     47   True   -100   \n",
       "308     3      hard    0  0.364286   1500.887      0.200     48   True   -100   \n",
       "309     3      hard    0  0.335816   1503.892      0.200     49   True   -100   \n",
       "310     3      hard    0  0.411033   1507.481      0.200     50   True   -100   \n",
       "311     3      hard    1  0.836928   1510.486      0.200     51   True    100   \n",
       "312     3      hard    0  0.451394   1513.791      0.188     52   True   -100   \n",
       "313     3      hard    0    0.3225   1516.779      0.191     53   True   -100   \n",
       "314     3      hard    0        -1   1520.385      0.194     54  False      0   \n",
       "315     3      hard    0  0.349227   1523.189      0.194     55   True   -100   \n",
       "316     3      hard    0  0.253778   1526.177      0.197     56   True   -100   \n",
       "317     3      hard    0  0.359067   1529.482      0.200     57   True   -100   \n",
       "318     3      hard    0  0.346758   1532.287      0.200     58   True   -100   \n",
       "319     3      hard    0  0.368707   1535.592      0.200     59   True   -100   \n",
       "320     3      hard    0  0.442427   1538.380      0.200     60   True   -100   \n",
       "321     3      hard    0  0.377436   1541.184      0.200     61   True   -100   \n",
       "322     3      hard    0   0.26534   1544.189      0.200     62   True   -100   \n",
       "323     3      hard    0  0.319762   1546.977      0.200     63   True   -100   \n",
       "324     3      hard    0  0.341669   1550.282      0.200     64   True   -100   \n",
       "325     3      hard    0  0.230435   1553.888      0.200     65   True   -100   \n",
       "326     3      hard    0  0.301628   1556.692      0.200     66   True   -100   \n",
       "327     3      hard    0   0.34057   1560.281      0.200     67   True   -100   \n",
       "328     3      hard    0   0.31168   1563.085      0.200     68   True   -100   \n",
       "329     3      hard    0   0.36738   1566.691      0.200     69   True   -100   \n",
       "330     3      hard    0  0.339157   1569.980      0.200     70   True   -100   \n",
       "331     3      hard    0  0.411129   1573.285      0.200     71   True   -100   \n",
       "332     3      hard    0  0.248831   1576.290      0.200     72   True   -100   \n",
       "333     3      hard    0  0.404778   1579.879      0.200     73   True   -100   \n",
       "334     3      hard    0  0.343659   1583.484      0.200     74   True   -100   \n",
       "\n",
       "        ITI ITI type  \n",
       "0     0.000    short  \n",
       "1     0.989     long  \n",
       "2     1.005     long  \n",
       "3     1.006     long  \n",
       "4     0.989     long  \n",
       "5    14.360     long  \n",
       "6     0.989     long  \n",
       "7     1.006     long  \n",
       "8     1.006     long  \n",
       "9     0.989     long  \n",
       "10    1.005     long  \n",
       "11    1.006     long  \n",
       "12    0.989     long  \n",
       "13    1.006     long  \n",
       "14    1.005     long  \n",
       "15    0.989     long  \n",
       "16    1.006     long  \n",
       "17    1.006     long  \n",
       "18    0.989     long  \n",
       "19    1.005     long  \n",
       "20   10.988     long  \n",
       "21    0.989     long  \n",
       "22    1.006     long  \n",
       "23    1.006     long  \n",
       "24    0.989     long  \n",
       "25    1.005     long  \n",
       "26    1.006     long  \n",
       "27    0.989     long  \n",
       "28    1.006     long  \n",
       "29    1.006     long  \n",
       "..      ...      ...  \n",
       "305   0.405    short  \n",
       "306   0.388    short  \n",
       "307   1.006     long  \n",
       "308   0.204    short  \n",
       "309   0.405    short  \n",
       "310   0.989     long  \n",
       "311   0.405    short  \n",
       "312   0.705     long  \n",
       "313   0.388    short  \n",
       "314   1.006     long  \n",
       "315   0.204    short  \n",
       "316   0.388    short  \n",
       "317   0.705     long  \n",
       "318   0.205    short  \n",
       "319   0.705     long  \n",
       "320   0.188    short  \n",
       "321   0.204    short  \n",
       "322   0.405    short  \n",
       "323   0.188    short  \n",
       "324   0.705     long  \n",
       "325   1.006     long  \n",
       "326   0.204    short  \n",
       "327   0.989     long  \n",
       "328   0.204    short  \n",
       "329   1.006     long  \n",
       "330   0.689     long  \n",
       "331   0.705     long  \n",
       "332   0.405    short  \n",
       "333   0.989     long  \n",
       "334   1.005     long  \n",
       "\n",
       "[335 rows x 11 columns]"
      ]
     },
     "execution_count": 13,
     "metadata": {},
     "output_type": "execute_result"
    }
   ],
   "source": [
    "data"
   ]
  },
  {
   "cell_type": "code",
   "execution_count": 14,
   "metadata": {
    "collapsed": false
   },
   "outputs": [],
   "source": [
    "# print(SBJ,' n_trials = ',len(data))\n",
    "# for cond in data['Condition'].unique():\n",
    "#     print('==============', cond, '==============')\n",
    "#     print('Accuracy:', data[data['Condition']==cond]['Hit'].mean())\n",
    "#     print('--> correct = ', data[data['Condition']==cond]['Hit'].sum(),\\\n",
    "#           '/', len(data[data['Condition']==cond]['Hit']))\n",
    "#     print('n_reverse:', data[data['Condition']==cond]['Reversal'].sum())"
   ]
  },
  {
   "cell_type": "markdown",
   "metadata": {},
   "source": [
    "### Save Log Info"
   ]
  },
  {
   "cell_type": "code",
   "execution_count": 15,
   "metadata": {
    "collapsed": true
   },
   "outputs": [],
   "source": [
    "behav_filename = os.path.join(data_dir,SBJ,SBJ+'_behav.csv')\n",
    "\n",
    "data.to_csv(behav_filename,index_label='Total_Trial')"
   ]
  },
  {
   "cell_type": "code",
   "execution_count": 16,
   "metadata": {
    "collapsed": false
   },
   "outputs": [],
   "source": [
    "# Check block numbers\n",
    "# plt.plot(data['Block'])"
   ]
  },
  {
   "cell_type": "code",
   "execution_count": 17,
   "metadata": {
    "collapsed": false
   },
   "outputs": [],
   "source": [
    "# pd.set_option('max_rows', 80)\n",
    "# data[34:111]"
   ]
  },
  {
   "cell_type": "markdown",
   "metadata": {},
   "source": [
    "# Plot Behavioral Results"
   ]
  },
  {
   "cell_type": "markdown",
   "metadata": {},
   "source": [
    "### Compute extra plotting variables"
   ]
  },
  {
   "cell_type": "code",
   "execution_count": 18,
   "metadata": {
    "collapsed": true
   },
   "outputs": [],
   "source": [
    "# Block accuracy\n",
    "accuracy = data['Hit'].groupby([data['Block'],data['Condition']]).mean()\n",
    "for ix in range(len(data)):\n",
    "    data.loc[ix,'Accuracy'] = accuracy[data.loc[ix,'Block'],data.loc[ix,'Condition']]"
   ]
  },
  {
   "cell_type": "code",
   "execution_count": 19,
   "metadata": {
    "collapsed": false
   },
   "outputs": [],
   "source": [
    "# Position to plot block accuracy\n",
    "block_start_ix = data[data['Trial']==0].index\n",
    "block_mid_ix = [ix+prdm_vars['design']['n_trials']/2 for ix in block_start_ix[1:]]\n",
    "# Add in hard, then easy; not including full_vis\n",
    "block_mid_ix.insert(0,np.mean(np.arange(prdm_vars['design']['n_fullvis']+prdm_vars['design']['n_training'],\\\n",
    "                                        prdm_vars['design']['n_fullvis']+2*prdm_vars['design']['n_training'])))\n",
    "block_mid_ix.insert(0,np.mean(range(prdm_vars['design']['n_fullvis']+prdm_vars['design']['n_training'])))\n",
    "#block_mid_ix.insert(0,np.mean(range(prdm_vars['design']['n_fullvis'])))"
   ]
  },
  {
   "cell_type": "markdown",
   "metadata": {},
   "source": [
    "### Main tolerance + accuracy figure"
   ]
  },
  {
   "cell_type": "code",
   "execution_count": 20,
   "metadata": {
    "collapsed": false,
    "scrolled": false
   },
   "outputs": [
    {
     "data": {
      "image/png": "[encoded data removed]",
      "text/plain": [
       "<matplotlib.figure.Figure at 0x115979110>"
      ]
     },
     "metadata": {},
     "output_type": "display_data"
    }
   ],
   "source": [
    "# Accuracy and Tolerance\n",
    "f, ax1 = plt.subplots()\n",
    "x = range(len(data))\n",
    "plot_title = '{0} Tolerance and Accuracy: easy={1:0.3f}; hard={2:0.3f}'.format(\n",
    "                SBJ, data[data['Condition']=='easy']['Hit'].mean(),\n",
    "                data[data['Condition']=='hard']['Hit'].mean())\n",
    "    \n",
    "colors = [[float(c)/255 for c in [228,26,28]],   # green\n",
    "          [float(c)/255 for c in [77,175,74]]]   # red (blue = [c/255 for c in [55,126,184]]})\n",
    "rt_colors = [colors[data['Hit'].values[ix]] for ix in range(len(data))]\n",
    "diff_colors = {'easy': [1,1,1],\n",
    "               'hard': [0.7,0.7,0.7]}\n",
    "#scale = {'Hit Total': np.max(data['Tolerance'])/np.max(data['Hit Total']),\n",
    "#         'Score Total': np.max(data['Tolerance'])/np.max(data['Score Total'])}\n",
    "\n",
    "# RTs\n",
    "ax1.scatter(x,data['RT'], s=20, c=rt_colors, edgecolors='k')\n",
    "# Tolerance\n",
    "ax1.plot(prdm_vars['timing']['target']+data['Tolerance'],'k--',label='Tolerance')\n",
    "ax1.plot(prdm_vars['timing']['target']-data['Tolerance'],'k--')\n",
    "# Tolerance Limit\n",
    "ax1.plot(x,[prdm_vars['timing']['target']-prdm_vars['timing']['tol_lim'][0] for _ in x],'k:')\n",
    "ax1.plot(x,[prdm_vars['timing']['target']+prdm_vars['timing']['tol_lim'][0] for _ in x],'k:')\n",
    "ax1.plot(x,[prdm_vars['timing']['target']-prdm_vars['timing']['tol_lim'][1] for _ in x],'k:')\n",
    "ax1.plot(x,[prdm_vars['timing']['target']+prdm_vars['timing']['tol_lim'][1] for _ in x],'k:')\n",
    "# Labels\n",
    "ax1.set_ylabel('Target Tolerance (s)', color='k')\n",
    "ax1.set_xlim([0,len(data)])\n",
    "ax1.set_ylim([0.7, 1.3])#[min(data['RT']), max(data['RT'])])\n",
    "\n",
    "ax2 = ax1.twinx()\n",
    "# ax2.plot(data['Hit Total']/np.max(data['Hit Total']),'k',label='Hit Total')\n",
    "ax2.scatter(block_mid_ix, accuracy, s=60, c='k',\n",
    "           edgecolors='k')#,linewidths=2)\n",
    "ax2.fill_between(x, 1, 0, where=data['Condition']=='easy',\n",
    "                facecolor=diff_colors['easy'], alpha=0.3, label='hard')\n",
    "ax2.fill_between(x, 1, 0, where=data['Condition']=='hard',\n",
    "                facecolor=diff_colors['hard'], alpha=0.3, label='easy')\n",
    "ax2.set_ylabel('Accuracy', color='k')\n",
    "ax2.tick_params('y', colors='k')\n",
    "ax2.set_xlabel('Trials')\n",
    "ax2.set_xlim([0,len(data)])\n",
    "ax2.set_ylim([0, 1])\n",
    "\n",
    "plt.title(plot_title)\n",
    "\n",
    "plt.savefig(results_dir+'tolerance_plots/'+SBJ+'_tolerance_plot_singletrial'+fig_type)"
   ]
  },
  {
   "cell_type": "markdown",
   "metadata": {},
   "source": [
    "## RT Histogram"
   ]
  },
  {
   "cell_type": "code",
   "execution_count": 28,
   "metadata": {
    "collapsed": false
   },
   "outputs": [
    {
     "data": {
      "image/png": "[encoded data removed]",
      "text/plain": [
       "<matplotlib.figure.Figure at 0x108602090>"
      ]
     },
     "metadata": {},
     "output_type": "display_data"
    }
   ],
   "source": [
    "ax = sns.distplot(data['RT'],label=SBJ)\n",
    "plt.subplots_adjust(top=0.9)\n",
    "ax.legend() # can also get the figure from plt.gcf()\n",
    "plt.savefig(results_dir+'RT_plots/'+SBJ+'_RT_hist'+fig_type)"
   ]
  },
  {
   "cell_type": "markdown",
   "metadata": {},
   "source": [
    "## RT by post-error across conditions (post-novelty slowing)"
   ]
  },
  {
   "cell_type": "code",
   "execution_count": 29,
   "metadata": {
    "collapsed": true
   },
   "outputs": [],
   "source": [
    "# Label post-correct (PC), post-error (PE) trials\n",
    "data['post-err'] = [False for _ in range(len(data))]\n",
    "for ix in range(len(data)):\n",
    "    # Exclude training data and first trial of the block\n",
    "    if (data.loc[ix,'Block']!=-1) and (data.loc[ix,'Trial']!=0):\n",
    "        if data.loc[ix-1,'Hit']==0:\n",
    "            data.loc[ix,'post-err'] = True"
   ]
  },
  {
   "cell_type": "code",
   "execution_count": 31,
   "metadata": {
    "collapsed": false,
    "scrolled": false
   },
   "outputs": [
    {
     "data": {
      "image/png": "[encoded data removed]",
      "text/plain": [
       "<matplotlib.figure.Figure at 0x117363890>"
      ]
     },
     "metadata": {},
     "output_type": "display_data"
    }
   ],
   "source": [
    "# RTs by condition\n",
    "plot = sns.factorplot(data=data,x='ITI type',y='RT',hue='post-err',col='Condition',kind='point',\n",
    "               ci=95,order=ITI_plot_order);\n",
    "plt.subplots_adjust(top=0.9)\n",
    "plot.fig.suptitle(SBJ) # can also get the figure from plt.gcf()\n",
    "\n",
    "plt.savefig(results_dir+'RT_plots/'+SBJ+'_RT_PE_ITI_hit'+fig_type)"
   ]
  },
  {
   "cell_type": "markdown",
   "metadata": {},
   "source": [
    "## post-long vs. post-short RT adjustments"
   ]
  },
  {
   "cell_type": "code",
   "execution_count": 52,
   "metadata": {
    "collapsed": true
   },
   "outputs": [],
   "source": [
    "# Break kdown by post-long and post-short trials\n",
    "data['postlong'] = [False if ix==0 else True if data.loc[ix-1,'RT']>1 else False for ix in range(len(data))]\n",
    "data_PL = data[data['postlong']==True]\n",
    "data_PS = data[data['postlong']==False]"
   ]
  },
  {
   "cell_type": "code",
   "execution_count": 53,
   "metadata": {
    "collapsed": false
   },
   "outputs": [
    {
     "data": {
      "image/png": "[encoded data removed]",
      "text/plain": [
       "<matplotlib.figure.Figure at 0x115a7e210>"
      ]
     },
     "metadata": {},
     "output_type": "display_data"
    }
   ],
   "source": [
    "# Simple collapsed post-long vs post-short\n",
    "plot = sns.factorplot(data=data,x='postlong',y='RT',kind='point',hue='post-err',\n",
    "               ci=95);#,order=['short','medium','long']);\n",
    "plt.subplots_adjust(top=0.9)\n",
    "plot.fig.suptitle(SBJ+'_post-long') # can also get the figure from plt.gcf()\n",
    "\n",
    "# # plt.savefig(results_dir+'RT_plots/'+SBJ+'_RT_PE_ITI_hit'+fig_type)\n",
    "# plot2 = sns.factorplot(data=data_PS,x='ITI type',y='RT',hue='post-err',col='Condition',kind='point',\n",
    "#                ci=95);#,order=['short','medium','long']);\n",
    "# plt.subplots_adjust(top=0.9)\n",
    "# plot2.fig.suptitle(SBJ+'_post-short') # can also get the figure from plt.gcf()\n",
    "\n",
    "plt.savefig(results_dir+'RT_plots/'+SBJ+'_RT_postlong_posterr'+fig_type)"
   ]
  },
  {
   "cell_type": "code",
   "execution_count": 54,
   "metadata": {
    "collapsed": false
   },
   "outputs": [
    {
     "data": {
      "text/plain": [
       "1.0426281488846156"
      ]
     },
     "execution_count": 54,
     "metadata": {},
     "output_type": "execute_result"
    }
   ],
   "source": [
    "data['RT'].mean()"
   ]
  },
  {
   "cell_type": "markdown",
   "metadata": {},
   "source": [
    "### more detailed breakdown"
   ]
  },
  {
   "cell_type": "code",
   "execution_count": 27,
   "metadata": {
    "collapsed": false
   },
   "outputs": [
    {
     "data": {
      "text/plain": [
       "<matplotlib.text.Text at 0x1162943d0>"
      ]
     },
     "execution_count": 27,
     "metadata": {},
     "output_type": "execute_result"
    },
    {
     "data": {
      "image/png": "[encoded data removed]",
      "text/plain": [
       "<matplotlib.figure.Figure at 0x115742e50>"
      ]
     },
     "metadata": {},
     "output_type": "display_data"
    },
    {
     "data": {
      "image/png": "[encoded data removed]",
      "text/plain": [
       "<matplotlib.figure.Figure at 0x115781b10>"
      ]
     },
     "metadata": {},
     "output_type": "display_data"
    }
   ],
   "source": [
    "plot = sns.factorplot(data=data_PL,x='ITI type',y='RT',hue='post-err',col='Condition',kind='point',\n",
    "               ci=95);#,order=['short','medium','long']);\n",
    "plt.subplots_adjust(top=0.9)\n",
    "plot.fig.suptitle(SBJ+'_post-long') # can also get the figure from plt.gcf()\n",
    "\n",
    "# plt.savefig(results_dir+'RT_plots/'+SBJ+'_RT_PE_ITI_hit'+fig_type)\n",
    "plot2 = sns.factorplot(data=data_PS,x='ITI type',y='RT',hue='post-err',col='Condition',kind='point',\n",
    "               ci=95);#,order=['short','medium','long']);\n",
    "plt.subplots_adjust(top=0.9)\n",
    "plot2.fig.suptitle(SBJ+'_post-short') # can also get the figure from plt.gcf()\n",
    "\n",
    "# plt.savefig(results_dir+'RT_plots/'+SBJ+'_RT_PE_ITI_hit'+fig_type)"
   ]
  },
  {
   "cell_type": "code",
   "execution_count": 29,
   "metadata": {
    "collapsed": false
   },
   "outputs": [
    {
     "data": {
      "text/plain": [
       "1.0353009806589906"
      ]
     },
     "execution_count": 29,
     "metadata": {},
     "output_type": "execute_result"
    }
   ],
   "source": [
    "data['RT'].mean()"
   ]
  },
  {
   "cell_type": "code",
   "execution_count": 17,
   "metadata": {
    "collapsed": false
   },
   "outputs": [
    {
     "data": {
      "text/plain": [
       "<matplotlib.axes._subplots.AxesSubplot at 0x1142b2a10>"
      ]
     },
     "execution_count": 17,
     "metadata": {},
     "output_type": "execute_result"
    },
    {
     "data": {
      "image/png": "[encoded data removed]",
      "text/plain": [
       "<matplotlib.figure.Figure at 0x113d96590>"
      ]
     },
     "metadata": {},
     "output_type": "display_data"
    }
   ],
   "source": [
    "# ITI Histograms\n",
    "sns.distplot(data['ITI'],bins=np.arange(0.285,1.01,0.01))"
   ]
  },
  {
   "cell_type": "markdown",
   "metadata": {},
   "source": [
    "# OLD SHIT"
   ]
  },
  {
   "cell_type": "code",
   "execution_count": null,
   "metadata": {
    "collapsed": true
   },
   "outputs": [],
   "source": [
    "RT_means = {'short': np.empty(2),\n",
    "           'medium': np.empty(2),\n",
    "           'long': np.empty(2)}\n",
    "RT_cnt = {'short': np.empty(2),\n",
    "           'medium': np.empty(2),\n",
    "           'long': np.empty(2)}\n",
    "for ITI_type in ['short','medium','long']:\n",
    "    RT_means[ITI_type][0] = data.loc[(data['PE']==False) & (data['ITI type']==ITI_type),'RT'].mean()\n",
    "    RT_cnt[ITI_type][0] = sum([(data['PE']==False) & (data['ITI type']==ITI_type)]).sum()\n",
    "    RT_means[ITI_type][1] = data.loc[(data['PE']==True) & (data['ITI type']==ITI_type),'RT'].mean()\n",
    "    RT_cnt[ITI_type][1] = sum([(data['PE']==True) & (data['ITI type']==ITI_type)]).sum()\n",
    "    \n",
    "# print(ITI_type)\n",
    "# print('PE: ',data.loc[data['PE']==True,'RT'].mean(),sum(data['PE']==True))\n",
    "# print('PC: ',data.loc[data['PE']==False,'RT'].mean(),sum(data['PE']==False))"
   ]
  },
  {
   "cell_type": "code",
   "execution_count": null,
   "metadata": {
    "collapsed": true
   },
   "outputs": [],
   "source": [
    "def makeECDF(sample):\n",
    "    def ECDF(x):\n",
    "        N = len(sample)\n",
    "        cumsum = sample<=x\n",
    "        CDF = np.sum(cumsum)/N\n",
    "        return CDF\n",
    "    return ECDF\n",
    "\n",
    "ecdf = makeECDF(sample)\n",
    "xs = np.linspace(0,1,len(sample))\n",
    "ys = [ecdf(x) for x in xs]\n",
    "plt.plot(xs,ys)\n",
    "sns.distplot(sample,rug=True,hist=False,kde=False)"
   ]
  },
  {
   "cell_type": "code",
   "execution_count": 43,
   "metadata": {
    "collapsed": false
   },
   "outputs": [
    {
     "data": {
      "text/plain": [
       "[<matplotlib.lines.Line2D at 0x1142bf9e8>]"
      ]
     },
     "execution_count": 43,
     "metadata": {},
     "output_type": "execute_result"
    },
    {
     "data": {
      "image/png": "[encoded data removed]",
      "text/plain": [
       "<matplotlib.figure.Figure at 0x114c3aac8>"
      ]
     },
     "metadata": {},
     "output_type": "display_data"
    }
   ],
   "source": [
    "def makeECDF(sample):\n",
    "    def ECDF(x):\n",
    "        N = len(sample)\n",
    "        cumsum = sample<=x\n",
    "        CDF = np.sum(cumsum)/N\n",
    "        return CDF\n",
    "    return ECDF\n",
    "\n",
    "ecdf = makeECDF(data['Correct'])\n",
    "xs = np.linspace(0,1,len(data))\n",
    "ys = [ecdf(x) for x in xs]\n",
    "plt.plot(xs,ys)\n"
   ]
  },
  {
   "cell_type": "code",
   "execution_count": 9,
   "metadata": {
    "collapsed": false
   },
   "outputs": [
    {
     "data": {
      "text/plain": [
       "<matplotlib.axes._subplots.AxesSubplot at 0x110a9d7f0>"
      ]
     },
     "execution_count": 9,
     "metadata": {},
     "output_type": "execute_result"
    },
    {
     "data": {
      "image/png": "[encoded data removed]",
      "text/plain": [
       "<matplotlib.figure.Figure at 0x110aa74a8>"
      ]
     },
     "metadata": {},
     "output_type": "display_data"
    }
   ],
   "source": [
    "data.plot(x='Trial',y='Reversal')"
   ]
  },
  {
   "cell_type": "code",
   "execution_count": 22,
   "metadata": {
    "collapsed": false
   },
   "outputs": [
    {
     "data": {
      "text/plain": [
       "array([0, 1, 0, 1])"
      ]
     },
     "execution_count": 22,
     "metadata": {},
     "output_type": "execute_result"
    }
   ],
   "source": [
    "n_blocks = 2\n",
    "np.random.permutation([b for b in [0, 1] for _ in range(n_blocks)])"
   ]
  },
  {
   "cell_type": "code",
   "execution_count": null,
   "metadata": {
    "collapsed": true
   },
   "outputs": [],
   "source": []
  }
 ],
 "metadata": {
  "kernelspec": {
   "display_name": "Python 2",
   "language": "python",
   "name": "python2"
  },
  "language_info": {
   "codemirror_mode": {
    "name": "ipython",
    "version": 2
   },
   "file_extension": ".py",
   "mimetype": "text/x-python",
   "name": "python",
   "nbconvert_exporter": "python",
   "pygments_lexer": "ipython2",
   "version": "2.7.13"
  }
 },
 "nbformat": 4,
 "nbformat_minor": 0
}

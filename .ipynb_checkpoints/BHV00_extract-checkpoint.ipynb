{
 "cells": [
  {
   "cell_type": "code",
   "execution_count": 1,
   "metadata": {
    "collapsed": false
   },
   "outputs": [
    {
     "name": "stderr",
     "output_type": "stream",
     "text": [
      ":0: FutureWarning: IPython widgets are experimental and may change in the future.\n"
     ]
    }
   ],
   "source": [
    "%matplotlib inline\n",
    "import sys \n",
    "import os\n",
    "import numpy as np\n",
    "import pandas as pd\n",
    "import matplotlib.pyplot as plt\n",
    "import seaborn as sns\n",
    "import scipy.io as io\n",
    "import pickle\n",
    "import json"
   ]
  },
  {
   "cell_type": "code",
   "execution_count": 2,
   "metadata": {
    "collapsed": true
   },
   "outputs": [],
   "source": [
    "SBJ = 'CP24'"
   ]
  },
  {
   "cell_type": "markdown",
   "metadata": {},
   "source": [
    "# Log Processing Functions"
   ]
  },
  {
   "cell_type": "code",
   "execution_count": 3,
   "metadata": {
    "collapsed": false
   },
   "outputs": [],
   "source": [
    "def get_root_app_dir():\n",
    "    \"\"\"Identify the correct root and app directories for HWNI cluster or local\"\"\"\n",
    "    if os.path.isdir('/home/knight/'):\n",
    "        root_dir = '/home/knight/hoycw/'\n",
    "        app_dir  = root_dir + 'Apps/'\n",
    "    elif os.path.isdir('/Volumes/hoycw_clust/'):\n",
    "        root_dir = '/Volumes/hoycw_clust/'\n",
    "        app_dir  = '/Users/colinhoy/Code/Apps/'\n",
    "\n",
    "    # Raise NameError if root_dir was not assigned\n",
    "    root_dir\n",
    "    \n",
    "    return root_dir, app_dir"
   ]
  },
  {
   "cell_type": "code",
   "execution_count": 4,
   "metadata": {
    "collapsed": false
   },
   "outputs": [],
   "source": [
    "def parse_prdm_vars(log):\n",
    "    \"\"\"Parse Target Time log lines to obtain paradigm design varaiables\"\"\"\n",
    "    prdm = {}\n",
    "    for line in log:\n",
    "        # Script version\n",
    "        if line.find('paradigm_name =')!=-1:\n",
    "            prdm['prdm_name'] = line[line.find('= ')+2:line.find('\\n')]\n",
    "        if line.find('paradigm_version =')!=-1:\n",
    "            prdm['prdm_version'] = line[line.find('= ')+2:line.find('\\n')]\n",
    "\n",
    "        # Timing variables\n",
    "        if line.find('interval_dur =')!=-1:\n",
    "            prdm['target'] = float(line[line.find('= ')+2:line.find('\\n')])\n",
    "        if line.find('feedback_delay =')!=-1:\n",
    "            prdm['fb_delay'] = float(line[line.find('= ')+2:line.find('\\n')])\n",
    "        if line.find('feedback_dur =')!=-1:\n",
    "            prdm['fb'] = float(line[line.find('= ')+2:line.find('\\n')])\n",
    "        if line.find('trigger_dur =')!=-1:\n",
    "            prdm['trig_dur'] = float(line[line.find('= ')+2:line.find('\\n')])\n",
    "\n",
    "        # ITIs and boundaries between them\n",
    "        if line.find('ITIs')!=-1:\n",
    "            prdm['ITIs'] = [float(string) \\\n",
    "                        for string in line[line.find('[')+1:line.find(']')].split(',')]\n",
    "\n",
    "        # Tolerance limits/clamps\n",
    "        if line.find('tolerance_lim')!=-1:\n",
    "            prdm['tol_lim'] = [float(string) \\\n",
    "                             for string in line[line.find('[')+1:line.find(']')].split(',')]\n",
    "\n",
    "        # Trial count variables\n",
    "        if line.find('n_blocks')!=-1:\n",
    "            prdm['n_blocks'] = int(line[line.find('=')+2:])\n",
    "        if line.find('n_trials')!=-1:\n",
    "            prdm['n_trials'] = int(line[line.find('=')+2:])\n",
    "        if line.find('n_examples')!=-1:\n",
    "            prdm['n_examples'] = int(line[line.find('=')+2:])\n",
    "        elif line.find('n_fullvis')!=-1:\n",
    "            prdm['n_examples'] = int(line[line.find('=')+2:])\n",
    "        if line.find('n_training')!=-1:\n",
    "            prdm['n_training'] = int(line[line.find('=')+2:])\n",
    "\n",
    "    # Add missing items from early log files\n",
    "    if 'prdm_name' not in prdm:\n",
    "        prdm['prdm_name'] = 'not_logged'\n",
    "    if 'prdm_version' not in prdm:\n",
    "        prdm['prdm_version'] = '<1.8.5'\n",
    "    if 'n_examples' not in prdm:\n",
    "        prdm['n_examples'] = int(-1)\n",
    "    if 'n_training' not in prdm:\n",
    "        prdm['n_training'] = int(-1)\n",
    "\n",
    "    prdm['trl_len'] = prdm['target']+\\\n",
    "                prdm['fb_delay']+prdm['fb']\n",
    "    \n",
    "    return prdm"
   ]
  },
  {
   "cell_type": "code",
   "execution_count": 19,
   "metadata": {
    "collapsed": false
   },
   "outputs": [],
   "source": [
    "def extract_trl_info(log,prdm):\n",
    "    \"\"\"Extract trial info from Target Time behavioral log file\"\"\"\n",
    "    # Separate informative lines\n",
    "    resp_lines = [line for line in log if line.find('Outcome=')!=-1]\n",
    "    \n",
    "    # Extract info from lines\n",
    "    data = pd.DataFrame({'Block': [line[line.find('B')+1] for line in resp_lines],\n",
    "                         'Trial': [int(line[line.find('_T')+2:line.find(':')]) for line in resp_lines],\n",
    "                         'Feedback': ['W' if line.count('WIN')>0 else \\\n",
    "                                      'L' if line.count('LOSE')>0 else \\\n",
    "                                      'N' for line in resp_lines],\n",
    "                         'RT': [line[line.find('RT')+5:line.find('RT')+5+13].strip() for line in resp_lines],\n",
    "                         'Tolerance': [float(line[line.find('tol')+12:line.find('\\n')]) for line in resp_lines],\n",
    "                         'Timestamp': [float(line[:line.find('.')+4]) for line in resp_lines]\n",
    "                        })\n",
    "    \n",
    "    # Add Sounds\n",
    "    if prdm['prdm_version'][0]=='1':\n",
    "        # Only win or loss in v1.*\n",
    "        data['Sound'] = ['new_win_sound' if data['Feedback'][ix]=='W' else 'new_loss_sound' for ix in range(len(data))]\n",
    "    else:\n",
    "        # win, loss, or oddball in v2.*\n",
    "        sound_lines = [line for line in log if line.find('SOUND =')!=-1]\n",
    "        data['Sound'] = [line[line.find('sounds/')+7:line.find('.wav')] for line in sound_lines]\n",
    "    \n",
    "    # Fix Reversals, Block, and missed RTs\n",
    "    for ix in range(len(data)):\n",
    "        # Fix Surprise sounds\n",
    "        if data['Sound'][ix].find('\\\\')!=-1:\n",
    "            data.loc[ix,'Sound'] = data['Sound'][ix][data['Sound'][ix].find('\\\\')+1:]\n",
    "        # Fix RTs\n",
    "        if data['RT'][ix][0:2]=='-1':#No response\n",
    "            data.loc[ix,'RT'] = -1\n",
    "            #data.loc[ix,'Score'] = 0            # !!! may change depending on version !!!!\n",
    "        else:# Real Responses\n",
    "            if data['RT'][ix].find(';')!=-1:# shorter number of digits, clip ';'\n",
    "                data.loc[ix,'RT'] = float(data['RT'][ix][:data['RT'][ix].find(';')])\n",
    "            else:\n",
    "                data.loc[ix,'RT'] = float(data['RT'][ix])\n",
    "\n",
    "        # Fix Block coding\n",
    "        if data['Block'][ix]=='T':# Training\n",
    "            data.loc[ix,'Block'] = -1\n",
    "        else:\n",
    "            data.loc[ix,'Block'] = int(data['Block'][ix])\n",
    "\n",
    "    data['Hit'] = [1 if abs(data['RT'][ix]-prdm['target']) <= data['Tolerance'][ix] else 0 for ix in range(len(data))]\n",
    "    data['Score'] = [0 if data['Feedback'][ix]=='N' or data['RT'][ix]== -1 else \\\n",
    "                     100 if data['Feedback'][ix]=='W' else -100 for ix in range(len(data))]\n",
    "\n",
    "    # Mark trials with bad feedback (apparently my logic has error up to 10 ms... damn it!)\n",
    "    data['bad_fb'] = [False if data['Feedback'][ix]=='N' or data['RT'][ix]==-1 or \\\n",
    "                      (data['Feedback'][ix]=='W' and data['Hit'][ix]==1) or \\\n",
    "                      (data['Feedback'][ix]=='L' and data['Hit'][ix]==0) \\\n",
    "                      else True for ix in range(len(data))]\n",
    "\n",
    "    # Add condition based on logging version\n",
    "    if prdm['prdm_version'][0]=='2':\n",
    "        data['Condition'] = [line[line.find('condition')+12:line.find('condition')+16] for line in resp_lines]\n",
    "    else:\n",
    "        data['Condition'] = [line[line.find('_type')+8:line.find('_type')+12] for line in resp_lines]\n",
    "\n",
    "    # Calculate ITIs\n",
    "    ITI_bounds = np.mean([prdm['ITIs'][:-1], prdm['ITIs'][1:]],0)\n",
    "    data['ITI'] = [data['Timestamp'][ix]-data['Timestamp'][ix-1]-prdm['trl_len'] if ix!=0 else 0 \\\n",
    "                   for ix in range(len(data))]\n",
    "    data.loc[data['Trial']==0,'ITI'] = 0\n",
    "    data.loc[data['Block']==-1,'ITI'] = 0\n",
    "    # Match real ITIs to ITI categories\n",
    "    ITI_bin_edges = np.insert(ITI_bounds, ITI_bounds.shape[0], prdm['ITIs'][-1]+0.1)\n",
    "    ITI_bin_edges = np.insert(ITI_bin_edges, 0, 0)\n",
    "    data['ITI type'] = [prdm['ITIs'][np.argmax(np.histogram(data['ITI'][ix],bins=ITI_bin_edges)[0])]\\\n",
    "            if data['ITI'][ix]!=0 else 0 for ix in range(len(data))]\n",
    "    # if len(prdm['ITIs'])==4:    # target_time v1.8.5+\n",
    "    # elif len(prdm['ITIs'])==3:  # target_time v1.8.4 and below\n",
    "    # else:               # Errors for anything besides len(ITIs)==3,4\n",
    "    #     assert len(prdm['ITIs'])==4\n",
    "\n",
    "    # Print stats on bad feedback\n",
    "    if any(data['bad_fb']):\n",
    "        bad_ix = [ix for ix in range(len(data)) if data['bad_fb'][ix]]\n",
    "        tmp = data.ix[bad_ix]\n",
    "        tmp['error'] = abs(tmp['RT']-prdm['target'])\n",
    "        tmp['error-tol'] = tmp['Tolerance']-tmp['error']\n",
    "        print 'WARNING!!! Bad feedback found on {0} trials!'.format(len(bad_ix))\n",
    "        print 'Max diff between RT error and tolerance = {0}, mean = {1}'.format(\\\n",
    "                                                    np.max(tmp['error-tol']),np.mean(np.abs(tmp['error-tol'])))\n",
    "        tmp.ix[:,{'Tolerance','error','WIN','Hit','err-tol'}]   \n",
    "    \n",
    "    return data"
   ]
  },
  {
   "cell_type": "markdown",
   "metadata": {
    "collapsed": true
   },
   "source": [
    "# Process Logs"
   ]
  },
  {
   "cell_type": "code",
   "execution_count": 6,
   "metadata": {
    "collapsed": false
   },
   "outputs": [],
   "source": [
    "# Set up directories\n",
    "root_dir, app_dir = get_root_app_dir()\n",
    "prj_dir = os.path.join(root_dir,'PRJ_Error/')\n",
    "results_dir = os.path.join(prj_dir,'results/')\n",
    "fig_type = '.png'\n",
    "data_dir = os.path.join(prj_dir,'data/')\n",
    "sbj_dir  = os.path.join(data_dir,SBJ)\n",
    "\n",
    "# Get log names\n",
    "logs = {}\n",
    "with open(data_dir+'TT_behav_log_list.txt') as f:\n",
    "    for line in f:\n",
    "        (SBJ_id, log_names) = line.split(',',1)\n",
    "        log_names = log_names.replace('\\n','')\n",
    "        logs[SBJ_id] = log_names.split(',')"
   ]
  },
  {
   "cell_type": "code",
   "execution_count": 20,
   "metadata": {
    "collapsed": false
   },
   "outputs": [
    {
     "name": "stdout",
     "output_type": "stream",
     "text": [
      "Processing log file for CP24 _R1 : /Volumes/hoycw_clust/PRJ_Error/data/CP24/00_raw/224_response_log_20171206121023.txt\n",
      "Saving paradigm variables file:  /Volumes/hoycw_clust/PRJ_Error/data/CP24/03_events/CP24_prdm_vars_R1.pkl\n",
      "Saving paradigm variables file:  /Volumes/hoycw_clust/PRJ_Error/data/CP24/03_events/CP24_prdm_vars_R1.mat\n",
      "Saving trial info file:  /Volumes/hoycw_clust/PRJ_Error/data/CP24/03_events/CP24_behav_R1.csv\n",
      "Processing log file for CP24 _R2 : /Volumes/hoycw_clust/PRJ_Error/data/CP24/00_raw/cp24_2_response_log_20171209120902.txt\n",
      "Saving paradigm variables file:  /Volumes/hoycw_clust/PRJ_Error/data/CP24/03_events/CP24_prdm_vars_R2.pkl\n",
      "Saving paradigm variables file:  /Volumes/hoycw_clust/PRJ_Error/data/CP24/03_events/CP24_prdm_vars_R2.mat\n",
      "Saving trial info file:  /Volumes/hoycw_clust/PRJ_Error/data/CP24/03_events/CP24_behav_R2.csv\n"
     ]
    }
   ],
   "source": [
    "# Process Logs\n",
    "for log_ix in range(len(logs[SBJ])):\n",
    "    if len(logs[SBJ])>1:\n",
    "        run_suffix = '_R'+str(log_ix+1)\n",
    "    else:\n",
    "        run_suffix = ''\n",
    "\n",
    "    # Load log\n",
    "    log_filename = os.path.join(sbj_dir,'00_raw',logs[SBJ][log_ix])\n",
    "    print 'Processing log file for', SBJ, run_suffix, ':', log_filename\n",
    "\n",
    "    log_file = open(log_filename,'r')\n",
    "    log = log_file.readlines()\n",
    "    log_file.close()\n",
    "\n",
    "    # Parse paradigm variables\n",
    "    prdm = parse_prdm_vars(log)\n",
    "\n",
    "    # Save paradigm variables\n",
    "    prdm_fname = os.path.join(root_dir,'PRJ_Error','data',SBJ,'03_events',SBJ+'_prdm_vars'+run_suffix+'.pkl')\n",
    "    print 'Saving paradigm variables file: ', prdm_fname\n",
    "    with open(prdm_fname, 'wb') as f: # Python readable\n",
    "        pickle.dump(prdm, f, pickle.HIGHEST_PROTOCOL)\n",
    "\n",
    "    prdm_fname = prdm_fname.replace('.pkl','.mat')\n",
    "    print 'Saving paradigm variables file: ', prdm_fname\n",
    "    io.savemat(prdm_fname,prdm) # MATLAB Readable\n",
    "\n",
    "    # Parse trial info\n",
    "    data = extract_trl_info(log,prdm)\n",
    "\n",
    "    # Save trial info\n",
    "    behav_fname = os.path.join(sbj_dir,'03_events',SBJ+'_behav'+run_suffix+'.csv')\n",
    "    print 'Saving trial info file: ', behav_fname\n",
    "    data.to_csv(behav_fname,index_label='Total_Trial')\n",
    "    print"
   ]
  },
  {
   "cell_type": "code",
   "execution_count": null,
   "metadata": {
    "collapsed": true
   },
   "outputs": [],
   "source": []
  }
 ],
 "metadata": {
  "kernelspec": {
   "display_name": "Python 2",
   "language": "python",
   "name": "python2"
  },
  "language_info": {
   "codemirror_mode": {
    "name": "ipython",
    "version": 2
   },
   "file_extension": ".py",
   "mimetype": "text/x-python",
   "name": "python",
   "nbconvert_exporter": "python",
   "pygments_lexer": "ipython2",
   "version": "2.7.13"
  }
 },
 "nbformat": 4,
 "nbformat_minor": 0
}

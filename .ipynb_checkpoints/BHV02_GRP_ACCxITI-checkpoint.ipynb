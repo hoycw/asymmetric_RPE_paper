{
 "cells": [
  {
   "cell_type": "code",
   "execution_count": 1,
   "metadata": {
    "collapsed": false
   },
   "outputs": [
    {
     "name": "stderr",
     "output_type": "stream",
     "text": [
      ":0: FutureWarning: IPython widgets are experimental and may change in the future.\n"
     ]
    }
   ],
   "source": [
    "from __future__ import division\n",
    "%matplotlib inline\n",
    "import sys \n",
    "import os\n",
    "import numpy as np\n",
    "import pandas as pd\n",
    "import matplotlib.pyplot as plt\n",
    "import seaborn as sns\n",
    "import scipy.io as io\n",
    "import pickle\n",
    "\n",
    "import scipy.stats"
   ]
  },
  {
   "cell_type": "code",
   "execution_count": 6,
   "metadata": {
    "collapsed": false
   },
   "outputs": [],
   "source": [
    "prj_dir = '/Volumes/hoycw_clust/PRJ_Error/'\n",
    "results_dir = prj_dir+'results/'\n",
    "fig_type = '.png'\n",
    "data_dir = prj_dir+'data/'\n",
    "sbj_dir  = data_dir+SBJ+'/'\n",
    "# paths = {'Rana': '/Users/colinhoy/Code/PRJ_Error/data/logs/',\n",
    "#          'Adi': '/Users/colinhoy/Code/PRJ_Error/data/logs/',\n",
    "#          'IR57': '/Users/colinhoy/Code/PRJ_Error/data/logs/'}\n",
    "logs = {'Rana_1.6': 'Rana2_response_log_20170321103129_DATA.txt',\n",
    "        'Adi_1.7': 'adi_response_log_20170321153641.txt',\n",
    "        'CP22': '222_response_log_20170609140407.txt',\n",
    "        'CP23': '223_response_log_20170930123015.txt',\n",
    "        'CP241': '224-1_response_log_20171206121023.txt',\n",
    "        'CP242': 'cp24_2_response_log_20171209120902.txt',\n",
    "        'IR57': '857_response_log_20170322112243_CWHedit.txt',#CWHedit added n_training, n_examples lines\n",
    "        'IR60': '60_response_log_20170613100307.txt',\n",
    "        'IR62': 'ir62_response_log_20170713124719.txt',\n",
    "        'IR63': 'IR63_response_log_20170921095757.txt',\n",
    "        'IR65': '865_response_log_20171207130759.txt',\n",
    "        'IR66': 'ir66_response_log_20171219124409.txt',\n",
    "        'IR67': 'ir673_response_log_20180124103600.txt',\n",
    "        'IR68': 'IR68_response_log_20180124140950.txt',\n",
    "        'IR69': '869p2_response_log_20180211111609.txt',#this is 2nd run, another one before!\n",
    "        'IR71': '71_response_log_20180221115510.txt',\n",
    "        'IR72': 'Ir72_response_log_20180325133520.txt',#2 log files, this has easy, other has hard blocks\n",
    "        'IR74': 'ir742_response_log_20180327170333.txt',\n",
    "        'IR75': 'IR75_response_log_20180531221813.txt',\n",
    "        'IR76': 'IR76_response_log_20180603181356.txt',\n",
    "        'IR77': '8772_response_log_20180620124229.txt',#2/3 logs, has 2 easy, 8773 has 2 hards\n",
    "        'IR78': 'IR78_response_log_20180628052715.txt',\n",
    "        'IR79': 'IR79_response_log_20180710112314.txt',\n",
    "        'IR82': 'IR82_response_log_20180928162311.txt',\n",
    "        'IR84': 'IR84_response_log_20181025094454.txt',\n",
    "        'P1': 'Pilot1_2_response_log_20170412131644.txt',\n",
    "        'P2': 'pilot2_response_log_20170412140615.txt',\n",
    "        'P3': 'pilot3_response_log_20170413110228.txt',\n",
    "        'P4': 'Pilot4_2_response_log_20170418140941.txt',\n",
    "        'P5': 'colin_real_response_log_20170412103113.txt',\n",
    "        'P6': 'pilot_adi_response_log_20170414122257.txt',\n",
    "        'P7': 'pilot_Rana_response_log_20170415155844.txt',\n",
    "        'P8': 'Giao_response_log_20170419161340.txt',\n",
    "        'P9': 'Sundberg_response_log_20170419150222.txt',\n",
    "        'colin_vec': 'colin_circle_wVec_response_log_20171222141248.txt',\n",
    "        'colin_novec': 'colin_noVec_response_log_20171222142110.txt'\n",
    "       }"
   ]
  },
  {
   "cell_type": "markdown",
   "metadata": {},
   "source": [
    "## Load all SBJ data"
   ]
  },
  {
   "cell_type": "code",
   "execution_count": null,
   "metadata": {
    "collapsed": true
   },
   "outputs": [],
   "source": [
    "SBJs = [sbj for sbj in logs.keys() if sbj[:2]=='IR']\n",
    "data = {}\n",
    "for sbj in SBJs:\n",
    "    # Load original data\n",
    "    behav_fname = os.path.join(sbj_dir,'03_events',SBJ+'_behav.csv')\n",
    "    data[sbj] = pd.read_csv(behav_fname)\n",
    "    # Compute accuracy per block\n",
    "    accuracy = data[sbj]['Hit'].groupby([data[sbj]['Block'],data[sbj]['Condition']]).mean()\n",
    "    for ix in range(len(data[sbj])):\n",
    "        data[sbj].loc[ix,'Accuracy'] = accuracy[data[sbj].loc[ix,'Block'],data[sbj].loc[ix,'Condition']]\n",
    "    # Compile across SBJs\n",
    "    "
   ]
  },
  {
   "cell_type": "markdown",
   "metadata": {},
   "source": [
    "### Load paradigm parameters"
   ]
  },
  {
   "cell_type": "code",
   "execution_count": 6,
   "metadata": {
    "collapsed": false
   },
   "outputs": [],
   "source": [
    "prdm_fname = os.path.join(sbj_dir,'03_events',SBJ+'_prdm_vars.pkl')\n",
    "with open(prdm_fname, 'rb') as f:\n",
    "    prdm = pickle.load(f)"
   ]
  },
  {
   "cell_type": "markdown",
   "metadata": {},
   "source": [
    "### Load Log Info"
   ]
  },
  {
   "cell_type": "code",
   "execution_count": 8,
   "metadata": {
    "collapsed": false
   },
   "outputs": [],
   "source": [
    "behav_fname = os.path.join(sbj_dir,'03_events',SBJ+'_behav.csv')\n",
    "data = pd.read_csv(behav_fname)"
   ]
  },
  {
   "cell_type": "code",
   "execution_count": 9,
   "metadata": {
    "collapsed": true
   },
   "outputs": [],
   "source": [
    "# Label post-correct (PC), post-error (PE) trials\n",
    "data['PE'] = [False for _ in range(len(data))]\n",
    "for ix in range(len(data)):\n",
    "    # Exclude training data and first trial of the block\n",
    "    if (data.loc[ix,'Block']!=-1) and (data.loc[ix,'Trial']!=0):\n",
    "        if data.loc[ix-1,'Hit']==0:\n",
    "            data.loc[ix,'PE'] = True"
   ]
  },
  {
   "cell_type": "code",
   "execution_count": 10,
   "metadata": {
    "collapsed": true
   },
   "outputs": [],
   "source": [
    "# pd.set_option('max_rows', 75)\n",
    "# data[data['Block']==3]"
   ]
  },
  {
   "cell_type": "markdown",
   "metadata": {},
   "source": [
    "# Add specific analysis computations"
   ]
  },
  {
   "cell_type": "code",
   "execution_count": 11,
   "metadata": {
    "collapsed": false
   },
   "outputs": [],
   "source": [
    "# Find middle of blocks to plot accuracy\n",
    "block_start_ix = data[data['Trial']==0].index\n",
    "block_mid_ix = [ix+prdm['n_trials']/2 for ix in block_start_ix[1:]]\n",
    "\n",
    "# Add in full_vis + E/H training: 0:4 + 5:19 = 10; 20:34 = 27.5 \n",
    "block_mid_ix.insert(0,np.mean([prdm['n_examples']+prdm['n_training'],\n",
    "         prdm['n_examples']+2*prdm['n_training']]))   #examples\n",
    "block_mid_ix.insert(0,np.mean([0, prdm['n_examples']+prdm['n_training']]))\n",
    "#easy training (would be 12.5 if splitting examples/train)"
   ]
  },
  {
   "cell_type": "code",
   "execution_count": 12,
   "metadata": {
    "collapsed": true
   },
   "outputs": [],
   "source": [
    "# Compute accuracy per block\n",
    "accuracy = data['Hit'].groupby([data['Block'],data['Condition']]).mean()\n",
    "for ix in range(len(data)):\n",
    "    data.loc[ix,'Accuracy'] = accuracy[data.loc[ix,'Block'],data.loc[ix,'Condition']]"
   ]
  },
  {
   "cell_type": "code",
   "execution_count": 13,
   "metadata": {
    "collapsed": false
   },
   "outputs": [],
   "source": [
    "# Break down by post-long and post-short trials\n",
    "data['postlong'] = [False if ix==0 else True if data['RT'].iloc[ix-1]>1 else False for ix in range(len(data))]\n",
    "\n",
    "# Compute change in RT\n",
    "data['dRT'] = [0 for ix in range(len(data))]\n",
    "for ix in range(len(data)-1):\n",
    "    data.loc[ix+1,'dRT'] = data.loc[ix+1,'RT']-data.loc[ix,'RT']"
   ]
  },
  {
   "cell_type": "code",
   "execution_count": 15,
   "metadata": {
    "collapsed": false,
    "scrolled": true
   },
   "outputs": [
    {
     "name": "stdout",
     "output_type": "stream",
     "text": [
      "WARNING: 1 trials with no response!\n"
     ]
    }
   ],
   "source": [
    "data_all = data\n",
    "# Exclude: Training/Examples, non-responses, first trial of each block\n",
    "if data[data['RT']<0].shape[0]>0:\n",
    "    print 'WARNING: '+str(data[data['RT']<0].shape[0])+' trials with no response!'\n",
    "data = data[(data['Block']!=-1) & (data['RT']>0) & (data['ITI']>0)]"
   ]
  },
  {
   "cell_type": "markdown",
   "metadata": {},
   "source": [
    "## RT Histograms by ITI"
   ]
  },
  {
   "cell_type": "code",
   "execution_count": 124,
   "metadata": {
    "collapsed": false
   },
   "outputs": [
    {
     "name": "stdout",
     "output_type": "stream",
     "text": [
      "7.50997664622 7.38855835564e-05\n"
     ]
    }
   ],
   "source": [
    "# ANOVA for RT differences across ITI\n",
    "itis = np.unique(data['ITI type'])\n",
    "if len(prdm['ITIs'])==4:\n",
    "    f,iti_p = scipy.stats.f_oneway(data.loc[data['ITI type']==itis[0],('RT')].values,\n",
    "                               data.loc[data['ITI type']==itis[1],('RT')].values,\n",
    "                               data.loc[data['ITI type']==itis[2],('RT')].values,\n",
    "                               data.loc[data['ITI type']==itis[3],('RT')].values)\n",
    "elif len(prdm['ITIs'])==3:\n",
    "    f,iti_p = scipy.stats.f_oneway(data.loc[data['ITI type']==itis[0],('RT')].values,\n",
    "                               data.loc[data['ITI type']==itis[1],('RT')].values,\n",
    "                               data.loc[data['ITI type']==itis[2],('RT')].values)\n",
    "else:\n",
    "    print 'WARNING: some weird paradigm version without 3 or 4 ITIs!'\n",
    "# print f, p"
   ]
  },
  {
   "cell_type": "code",
   "execution_count": 135,
   "metadata": {
    "collapsed": false
   },
   "outputs": [
    {
     "data": {
      "image/png": "[encoded data removed]",
      "text/plain": [
       "<matplotlib.figure.Figure at 0x1174a6210>"
      ]
     },
     "metadata": {},
     "output_type": "display_data"
    }
   ],
   "source": [
    "f, axes = plt.subplots(1,2)\n",
    "\n",
    "# RT Histogram\n",
    "rt_bins = np.arange(0.7,1.3,0.01)\n",
    "for iti in itis:\n",
    "    sns.distplot(data['RT'].loc[data['ITI type'] == iti],bins=rt_bins,label=str(round(iti,2)),ax=axes[0])\n",
    "axes[0].legend() # can also get the figure from plt.gcf()\n",
    "axes[0].set_xlim(min(rt_bins),max(rt_bins))\n",
    "\n",
    "# Factor Plot\n",
    "sns.boxplot(data=data,x='ITI type',y='RT',hue='ITI type',ax=axes[1])\n",
    "\n",
    "# Add overall title\n",
    "plt.subplots_adjust(top=0.9,wspace=0.3)\n",
    "f.suptitle(SBJ+' RT by ITI (p='+str(round(iti_p,4))+')') # can also get the figure from plt.gcf()\n",
    "\n",
    "# Save plot\n",
    "plt.savefig(results_dir+'BHV/RTs/hist_ITI/'+SBJ+'_RT_ITI_hist_box'+fig_type)"
   ]
  },
  {
   "cell_type": "markdown",
   "metadata": {},
   "source": [
    "##RT and Accuracy Effects by ITI and across post-error"
   ]
  },
  {
   "cell_type": "code",
   "execution_count": 57,
   "metadata": {
    "collapsed": false
   },
   "outputs": [
    {
     "data": {
      "image/png": "[encoded data removed]",
      "text/plain": [
       "<matplotlib.figure.Figure at 0x118f46990>"
      ]
     },
     "metadata": {},
     "output_type": "display_data"
    }
   ],
   "source": [
    "plot = sns.factorplot(data=data,x='ITI type',y='Accuracy',col='Condition',kind='point',sharey=False,\n",
    "               ci=95);#,order=ITI_plot_order\n",
    "#plot.set(alpha=0.5)\n",
    "plt.subplots_adjust(top=0.9)\n",
    "plot.fig.suptitle(SBJ) # can also get the figure from plt.gcf()\n",
    "\n",
    "plt.savefig(results_dir+'BHV/accuracy/'+SBJ+'_acc_PE_ITI_hit'+fig_type)"
   ]
  },
  {
   "cell_type": "code",
   "execution_count": null,
   "metadata": {
    "collapsed": true
   },
   "outputs": [],
   "source": []
  }
 ],
 "metadata": {
  "kernelspec": {
   "display_name": "Python 2",
   "language": "python",
   "name": "python2"
  },
  "language_info": {
   "codemirror_mode": {
    "name": "ipython",
    "version": 2
   },
   "file_extension": ".py",
   "mimetype": "text/x-python",
   "name": "python",
   "nbconvert_exporter": "python",
   "pygments_lexer": "ipython2",
   "version": "2.7.13"
  }
 },
 "nbformat": 4,
 "nbformat_minor": 0
}

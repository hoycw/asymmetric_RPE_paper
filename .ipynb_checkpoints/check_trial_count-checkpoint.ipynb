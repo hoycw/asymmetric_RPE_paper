{
 "cells": [
  {
   "cell_type": "code",
   "execution_count": 20,
   "metadata": {
    "collapsed": false
   },
   "outputs": [],
   "source": [
    "from __future__ import division\n",
    "import sys \n",
    "import os\n",
    "import numpy as np\n",
    "import pandas as pd\n",
    "import matplotlib.pyplot as plt\n",
    "import seaborn as sns\n",
    "import scipy.io as io\n",
    "import pickle"
   ]
  },
  {
   "cell_type": "code",
   "execution_count": 23,
   "metadata": {
    "collapsed": true
   },
   "outputs": [],
   "source": [
    "SBJ = 'IR84'"
   ]
  },
  {
   "cell_type": "code",
   "execution_count": 24,
   "metadata": {
    "collapsed": true
   },
   "outputs": [],
   "source": [
    "prj_dir = '/Volumes/hoycw_clust/PRJ_Error/'\n",
    "results_dir = prj_dir+'results/'\n",
    "fig_type = '.png'\n",
    "data_dir = prj_dir+'data/'\n",
    "sbj_dir  = data_dir+SBJ+'/'\n",
    "# paths = {'Rana': '/Users/colinhoy/Code/PRJ_Error/data/logs/',\n",
    "#          'Adi': '/Users/colinhoy/Code/PRJ_Error/data/logs/',\n",
    "#          'IR57': '/Users/colinhoy/Code/PRJ_Error/data/logs/'}\n",
    "logs = {'IR82': 'IR82_response_log_20180928162311.txt',\n",
    "        'IR84': 'IR84_response_log_20181025094454.txt',\n",
    "       }"
   ]
  },
  {
   "cell_type": "code",
   "execution_count": 25,
   "metadata": {
    "collapsed": true
   },
   "outputs": [],
   "source": [
    "log_filename = os.path.join(sbj_dir,'00_raw',logs[SBJ])\n",
    "\n",
    "log_file = open(log_filename,'r')\n",
    "log = log_file.readlines()\n",
    "log_file.close()"
   ]
  },
  {
   "cell_type": "code",
   "execution_count": 26,
   "metadata": {
    "collapsed": true
   },
   "outputs": [],
   "source": [
    "ez = [0,0,0]#W,L,S\n",
    "hd = [0,0,0]\n",
    "ez_total = 0\n",
    "hd_total = 0\n",
    "for line in log:\n",
    "    if line.find('condition = easy')!=-1:\n",
    "        ez_total+=1\n",
    "        if line.find('Outcome=WIN')!=-1:\n",
    "            ez[0]+=1\n",
    "        elif line.find('Outcome=LOSE')!=-1:\n",
    "            ez[1]+=1\n",
    "        elif line.find('Outcome=SURP')!=-1:\n",
    "            ez[2]+=1\n",
    "    if line.find('condition = hard')!=-1:\n",
    "        hd_total+=1\n",
    "        if line.find('Outcome=WIN')!=-1:\n",
    "            hd[0]+=1\n",
    "        elif line.find('Outcome=LOSE')!=-1:\n",
    "            hd[1]+=1\n",
    "        elif line.find('Outcome=SURP')!=-1:\n",
    "            hd[2]+=1\n",
    "            "
   ]
  },
  {
   "cell_type": "code",
   "execution_count": 27,
   "metadata": {
    "collapsed": false
   },
   "outputs": [
    {
     "name": "stdout",
     "output_type": "stream",
     "text": [
      "ez_total =  170 ; W,L,S =  [97, 52, 18]\n",
      "%W,L,S =  [0.5705882352941176, 0.3058823529411765, 0.10588235294117647]\n"
     ]
    }
   ],
   "source": [
    "print 'ez_total = ', ez_total, '; W,L,S = ', ez\n",
    "print '%W,L,S = ', [ez[ix]/ez_total for ix in range(3)]"
   ]
  },
  {
   "cell_type": "code",
   "execution_count": 28,
   "metadata": {
    "collapsed": false
   },
   "outputs": [
    {
     "name": "stdout",
     "output_type": "stream",
     "text": [
      "hd_total =  165 ; W,L,S =  [28, 118, 18]\n",
      "%W,L,S =  [0.1696969696969697, 0.7151515151515152, 0.10909090909090909]\n"
     ]
    }
   ],
   "source": [
    "print 'hd_total = ', hd_total, '; W,L,S = ', hd\n",
    "print '%W,L,S = ', [hd[ix]/hd_total for ix in range(3)]"
   ]
  },
  {
   "cell_type": "code",
   "execution_count": null,
   "metadata": {
    "collapsed": true
   },
   "outputs": [],
   "source": []
  }
 ],
 "metadata": {
  "kernelspec": {
   "display_name": "Python 2",
   "language": "python",
   "name": "python2"
  },
  "language_info": {
   "codemirror_mode": {
    "name": "ipython",
    "version": 2
   },
   "file_extension": ".py",
   "mimetype": "text/x-python",
   "name": "python",
   "nbconvert_exporter": "python",
   "pygments_lexer": "ipython2",
   "version": "2.7.13"
  }
 },
 "nbformat": 4,
 "nbformat_minor": 0
}

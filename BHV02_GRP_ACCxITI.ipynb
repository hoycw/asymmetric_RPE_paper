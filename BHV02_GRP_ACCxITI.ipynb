{
 "cells": [
  {
   "cell_type": "code",
   "execution_count": 23,
   "metadata": {
    "collapsed": false
   },
   "outputs": [],
   "source": [
    "from __future__ import division\n",
    "%matplotlib inline\n",
    "import sys \n",
    "import os\n",
    "import numpy as np\n",
    "import pandas as pd\n",
    "import matplotlib.pyplot as plt\n",
    "import seaborn as sns\n",
    "import scipy.io as io\n",
    "import pickle\n",
    "\n",
    "import scipy.stats\n",
    "\n",
    "import itertools"
   ]
  },
  {
   "cell_type": "code",
   "execution_count": 6,
   "metadata": {
    "collapsed": false
   },
   "outputs": [],
   "source": [
    "prj_dir = '/Volumes/hoycw_clust/PRJ_Error/'\n",
    "results_dir = prj_dir+'results/'\n",
    "fig_type = '.png'\n",
    "data_dir = prj_dir+'data/'\n",
    "sbj_dir  = data_dir+SBJ+'/'\n",
    "# paths = {'Rana': '/Users/colinhoy/Code/PRJ_Error/data/logs/',\n",
    "#          'Adi': '/Users/colinhoy/Code/PRJ_Error/data/logs/',\n",
    "#          'IR57': '/Users/colinhoy/Code/PRJ_Error/data/logs/'}\n",
    "logs = {'Rana_1.6': 'Rana2_response_log_20170321103129_DATA.txt',\n",
    "        'Adi_1.7': 'adi_response_log_20170321153641.txt',\n",
    "        'CP22': '222_response_log_20170609140407.txt',\n",
    "        'CP23': '223_response_log_20170930123015.txt',\n",
    "        'CP241': '224-1_response_log_20171206121023.txt',\n",
    "        'CP242': 'cp24_2_response_log_20171209120902.txt',\n",
    "        'IR57': '857_response_log_20170322112243_CWHedit.txt',#CWHedit added n_training, n_examples lines\n",
    "        'IR60': '60_response_log_20170613100307.txt',\n",
    "        'IR62': 'ir62_response_log_20170713124719.txt',\n",
    "        'IR63': 'IR63_response_log_20170921095757.txt',\n",
    "        'IR65': '865_response_log_20171207130759.txt',\n",
    "        'IR66': 'ir66_response_log_20171219124409.txt',\n",
    "        'IR67': 'ir673_response_log_20180124103600.txt',\n",
    "        'IR68': 'IR68_response_log_20180124140950.txt',\n",
    "        'IR69': '869p2_response_log_20180211111609.txt',#this is 2nd run, another one before!\n",
    "        'IR71': '71_response_log_20180221115510.txt',\n",
    "        'IR72': 'Ir72_response_log_20180325133520.txt',#2 log files, this has easy, other has hard blocks\n",
    "        'IR74': 'ir742_response_log_20180327170333.txt',\n",
    "        'IR75': 'IR75_response_log_20180531221813.txt',\n",
    "        'IR76': 'IR76_response_log_20180603181356.txt',\n",
    "        'IR77': '8772_response_log_20180620124229.txt',#2/3 logs, has 2 easy, 8773 has 2 hards\n",
    "        'IR78': 'IR78_response_log_20180628052715.txt',\n",
    "        'IR79': 'IR79_response_log_20180710112314.txt',\n",
    "        'IR82': 'IR82_response_log_20180928162311.txt',\n",
    "        'IR84': 'IR84_response_log_20181025094454.txt',\n",
    "        'P1': 'Pilot1_2_response_log_20170412131644.txt',\n",
    "        'P2': 'pilot2_response_log_20170412140615.txt',\n",
    "        'P3': 'pilot3_response_log_20170413110228.txt',\n",
    "        'P4': 'Pilot4_2_response_log_20170418140941.txt',\n",
    "        'P5': 'colin_real_response_log_20170412103113.txt',\n",
    "        'P6': 'pilot_adi_response_log_20170414122257.txt',\n",
    "        'P7': 'pilot_Rana_response_log_20170415155844.txt',\n",
    "        'P8': 'Giao_response_log_20170419161340.txt',\n",
    "        'P9': 'Sundberg_response_log_20170419150222.txt',\n",
    "        'colin_vec': 'colin_circle_wVec_response_log_20171222141248.txt',\n",
    "        'colin_novec': 'colin_noVec_response_log_20171222142110.txt'\n",
    "       }"
   ]
  },
  {
   "cell_type": "markdown",
   "metadata": {},
   "source": [
    "## Load all SBJ data"
   ]
  },
  {
   "cell_type": "code",
   "execution_count": 46,
   "metadata": {
    "collapsed": false
   },
   "outputs": [
    {
     "data": {
      "text/plain": [
       "ITI type\n",
       "0.00    0.200000\n",
       "0.50    0.413462\n",
       "0.85    0.439252\n",
       "1.20    0.521008\n",
       "Name: Hit, dtype: float64"
      ]
     },
     "execution_count": 46,
     "metadata": {},
     "output_type": "execute_result"
    }
   ],
   "source": [
    "grp_acc"
   ]
  },
  {
   "cell_type": "code",
   "execution_count": 81,
   "metadata": {
    "collapsed": false
   },
   "outputs": [],
   "source": [
    "tmp1 = data['IR75'].groupby(['Condition','ITI type'])\n",
    "tmp2 = data['IR57'].groupby(['Condition','ITI type'])\n",
    "acc1 = tmp1['Hit'].agg(np.mean)\n",
    "acc2 = tmp2['Hit'].agg(np.mean)"
   ]
  },
  {
   "cell_type": "code",
   "execution_count": 83,
   "metadata": {
    "collapsed": false
   },
   "outputs": [],
   "source": [
    "acc12 = pd.concat([acc1,acc2])"
   ]
  },
  {
   "cell_type": "code",
   "execution_count": 89,
   "metadata": {
    "collapsed": false
   },
   "outputs": [
    {
     "data": {
      "text/plain": [
       "pandas.core.groupby.DataFrameGroupBy"
      ]
     },
     "execution_count": 89,
     "metadata": {},
     "output_type": "execute_result"
    }
   ],
   "source": [
    "type(tmp1)"
   ]
  },
  {
   "cell_type": "markdown",
   "metadata": {},
   "source": [
    "# FUCK trying to groupby and such, just get arrays of the variables and build a new dataframe!"
   ]
  },
  {
   "cell_type": "code",
   "execution_count": 95,
   "metadata": {
    "collapsed": false
   },
   "outputs": [
    {
     "data": {
      "text/plain": [
       "0.33333333333333331"
      ]
     },
     "execution_count": 95,
     "metadata": {},
     "output_type": "execute_result"
    }
   ],
   "source": [
    "\n",
    "for ix in range(len(data)):\n",
    "    data.loc[ix,'Accuracy'] = accuracy[data.loc[ix,'Block'],data.loc[ix,'Condition']]"
   ]
  },
  {
   "cell_type": "code",
   "execution_count": 48,
   "metadata": {
    "collapsed": false
   },
   "outputs": [],
   "source": [
    "SBJs = [sbj for sbj in logs.keys() if sbj[:2]=='IR']\n",
    "data = {}\n",
    "for sbj_ix, sbj in enumerate(SBJs):\n",
    "    # Load original data\n",
    "    behav_fname = os.path.join(sbj_dir,'03_events',SBJ+'_behav.csv')\n",
    "    data[sbj] = pd.read_csv(behav_fname)\n",
    "    # Compute accuracy per block\n",
    "    accuracy = data[sbj]['Hit'].groupby([data[sbj]['Condition'],data[sbj]['ITI type']]).mean()\n",
    "#     for ix in range(len(data[sbj])):\n",
    "#         data[sbj].loc[ix,'Accuracy'] = accuracy[data[sbj].loc[ix,'Block'],data[sbj].loc[ix,'Condition']]\n",
    "    # Compile across SBJs\n",
    "    if sbj_ix==0:\n",
    "        grp_acc = accuracy\n",
    "    else:\n",
    "        grp_acc = pd.concat([grp_acc,accuracy])"
   ]
  },
  {
   "cell_type": "code",
   "execution_count": 90,
   "metadata": {
    "collapsed": true
   },
   "outputs": [],
   "source": [
    "all_data = data[SBJs[0]]\n",
    "for sbj in SBJs[1:]:\n",
    "    all_data = pd.concat([all_data,data[sbj]])"
   ]
  },
  {
   "cell_type": "code",
   "execution_count": 92,
   "metadata": {
    "collapsed": false
   },
   "outputs": [],
   "source": [
    "all_acc = all_data['Hit'].groupby([all_data['Condition'],all_data['ITI type']]).mean()\n",
    "\n"
   ]
  },
  {
   "cell_type": "code",
   "execution_count": 93,
   "metadata": {
    "collapsed": false
   },
   "outputs": [
    {
     "data": {
      "text/plain": [
       "Condition  ITI type\n",
       "easy       0.00        0.333333\n",
       "           0.50        0.629630\n",
       "           0.85        0.708333\n",
       "           1.20        0.769231\n",
       "hard       0.00        0.000000\n",
       "           0.50        0.180000\n",
       "           0.85        0.220339\n",
       "           1.20        0.222222\n",
       "Name: Hit, dtype: float64"
      ]
     },
     "execution_count": 93,
     "metadata": {},
     "output_type": "execute_result"
    }
   ],
   "source": [
    "all_acc"
   ]
  },
  {
   "cell_type": "code",
   "execution_count": 85,
   "metadata": {
    "collapsed": false
   },
   "outputs": [
    {
     "ename": "ValueError",
     "evalue": "Could not interpret input 'ITI type'",
     "output_type": "error",
     "traceback": [
      "\u001b[0;31m---------------------------------------------------------------------------\u001b[0m",
      "\u001b[0;31mValueError\u001b[0m                                Traceback (most recent call last)",
      "\u001b[0;32m<ipython-input-85-9328bcf4b0ae>\u001b[0m in \u001b[0;36m<module>\u001b[0;34m()\u001b[0m\n\u001b[0;32m----> 1\u001b[0;31m \u001b[0msns\u001b[0m\u001b[0;34m.\u001b[0m\u001b[0mfactorplot\u001b[0m\u001b[0;34m(\u001b[0m\u001b[0mdata\u001b[0m\u001b[0;34m=\u001b[0m\u001b[0macc12\u001b[0m\u001b[0;34m,\u001b[0m\u001b[0mx\u001b[0m\u001b[0;34m=\u001b[0m\u001b[0;34m'ITI type'\u001b[0m\u001b[0;34m,\u001b[0m\u001b[0my\u001b[0m\u001b[0;34m=\u001b[0m\u001b[0;34m'Accuracy'\u001b[0m\u001b[0;34m,\u001b[0m\u001b[0mkind\u001b[0m\u001b[0;34m=\u001b[0m\u001b[0;34m'point'\u001b[0m\u001b[0;34m)\u001b[0m\u001b[0;34m\u001b[0m\u001b[0m\n\u001b[0m",
      "\u001b[0;32m//anaconda/lib/python2.7/site-packages/seaborn/categorical.pyc\u001b[0m in \u001b[0;36mfactorplot\u001b[0;34m(x, y, hue, data, row, col, col_wrap, estimator, ci, n_boot, units, order, hue_order, row_order, col_order, kind, size, aspect, orient, color, palette, legend, legend_out, sharex, sharey, margin_titles, facet_kws, **kwargs)\u001b[0m\n\u001b[1;32m   3389\u001b[0m     \u001b[0;31m# facets to ensure representation of all data in the final plot\u001b[0m\u001b[0;34m\u001b[0m\u001b[0;34m\u001b[0m\u001b[0m\n\u001b[1;32m   3390\u001b[0m     \u001b[0mp\u001b[0m \u001b[0;34m=\u001b[0m \u001b[0m_CategoricalPlotter\u001b[0m\u001b[0;34m(\u001b[0m\u001b[0;34m)\u001b[0m\u001b[0;34m\u001b[0m\u001b[0m\n\u001b[0;32m-> 3391\u001b[0;31m     \u001b[0mp\u001b[0m\u001b[0;34m.\u001b[0m\u001b[0mestablish_variables\u001b[0m\u001b[0;34m(\u001b[0m\u001b[0mx_\u001b[0m\u001b[0;34m,\u001b[0m \u001b[0my_\u001b[0m\u001b[0;34m,\u001b[0m \u001b[0mhue\u001b[0m\u001b[0;34m,\u001b[0m \u001b[0mdata\u001b[0m\u001b[0;34m,\u001b[0m \u001b[0morient\u001b[0m\u001b[0;34m,\u001b[0m \u001b[0morder\u001b[0m\u001b[0;34m,\u001b[0m \u001b[0mhue_order\u001b[0m\u001b[0;34m)\u001b[0m\u001b[0;34m\u001b[0m\u001b[0m\n\u001b[0m\u001b[1;32m   3392\u001b[0m     \u001b[0morder\u001b[0m \u001b[0;34m=\u001b[0m \u001b[0mp\u001b[0m\u001b[0;34m.\u001b[0m\u001b[0mgroup_names\u001b[0m\u001b[0;34m\u001b[0m\u001b[0m\n\u001b[1;32m   3393\u001b[0m     \u001b[0mhue_order\u001b[0m \u001b[0;34m=\u001b[0m \u001b[0mp\u001b[0m\u001b[0;34m.\u001b[0m\u001b[0mhue_names\u001b[0m\u001b[0;34m\u001b[0m\u001b[0m\n",
      "\u001b[0;32m//anaconda/lib/python2.7/site-packages/seaborn/categorical.pyc\u001b[0m in \u001b[0;36mestablish_variables\u001b[0;34m(self, x, y, hue, data, orient, order, hue_order, units)\u001b[0m\n\u001b[1;32m    149\u001b[0m                 \u001b[0;32mif\u001b[0m \u001b[0misinstance\u001b[0m\u001b[0;34m(\u001b[0m\u001b[0minput\u001b[0m\u001b[0;34m,\u001b[0m \u001b[0mstring_types\u001b[0m\u001b[0;34m)\u001b[0m\u001b[0;34m:\u001b[0m\u001b[0;34m\u001b[0m\u001b[0m\n\u001b[1;32m    150\u001b[0m                     \u001b[0merr\u001b[0m \u001b[0;34m=\u001b[0m \u001b[0;34m\"Could not interpret input '{}'\"\u001b[0m\u001b[0;34m.\u001b[0m\u001b[0mformat\u001b[0m\u001b[0;34m(\u001b[0m\u001b[0minput\u001b[0m\u001b[0;34m)\u001b[0m\u001b[0;34m\u001b[0m\u001b[0m\n\u001b[0;32m--> 151\u001b[0;31m                     \u001b[0;32mraise\u001b[0m \u001b[0mValueError\u001b[0m\u001b[0;34m(\u001b[0m\u001b[0merr\u001b[0m\u001b[0;34m)\u001b[0m\u001b[0;34m\u001b[0m\u001b[0m\n\u001b[0m\u001b[1;32m    152\u001b[0m \u001b[0;34m\u001b[0m\u001b[0m\n\u001b[1;32m    153\u001b[0m             \u001b[0;31m# Figure out the plotting orientation\u001b[0m\u001b[0;34m\u001b[0m\u001b[0;34m\u001b[0m\u001b[0m\n",
      "\u001b[0;31mValueError\u001b[0m: Could not interpret input 'ITI type'"
     ]
    }
   ],
   "source": [
    "sns.factorplot(data=acc12,x='ITI type',y='Accuracy',kind='point')"
   ]
  },
  {
   "cell_type": "markdown",
   "metadata": {},
   "source": [
    "##RT and Accuracy Effects by ITI and across post-error"
   ]
  },
  {
   "cell_type": "code",
   "execution_count": 57,
   "metadata": {
    "collapsed": false
   },
   "outputs": [
    {
     "data": {
      "image/png": "[encoded data removed]",
      "text/plain": [
       "<matplotlib.figure.Figure at 0x118f46990>"
      ]
     },
     "metadata": {},
     "output_type": "display_data"
    }
   ],
   "source": [
    "plot = sns.factorplot(data=data,x='ITI type',y='Accuracy',col='Condition',kind='point',sharey=False,\n",
    "               ci=95);#,order=ITI_plot_order\n",
    "#plot.set(alpha=0.5)\n",
    "plt.subplots_adjust(top=0.9)\n",
    "plot.fig.suptitle(SBJ) # can also get the figure from plt.gcf()\n",
    "\n",
    "plt.savefig(results_dir+'BHV/accuracy/'+SBJ+'_acc_PE_ITI_hit'+fig_type)"
   ]
  },
  {
   "cell_type": "code",
   "execution_count": null,
   "metadata": {
    "collapsed": true
   },
   "outputs": [],
   "source": []
  }
 ],
 "metadata": {
  "kernelspec": {
   "display_name": "Python 2",
   "language": "python",
   "name": "python2"
  },
  "language_info": {
   "codemirror_mode": {
    "name": "ipython",
    "version": 2
   },
   "file_extension": ".py",
   "mimetype": "text/x-python",
   "name": "python",
   "nbconvert_exporter": "python",
   "pygments_lexer": "ipython2",
   "version": "2.7.13"
  }
 },
 "nbformat": 4,
 "nbformat_minor": 0
}

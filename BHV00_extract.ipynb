{
 "cells": [
  {
   "cell_type": "markdown",
   "metadata": {},
   "source": [
    "### This version saves paradigm parameters and does not include some summary variables that can be computed from the main info:\n",
    "    reversal, post_err, score_total, hit_total, block_acc"
   ]
  },
  {
   "cell_type": "code",
   "execution_count": 1,
   "metadata": {
    "collapsed": false
   },
   "outputs": [
    {
     "name": "stderr",
     "output_type": "stream",
     "text": [
      ":0: FutureWarning: IPython widgets are experimental and may change in the future.\n"
     ]
    }
   ],
   "source": [
    "%matplotlib inline\n",
    "import sys \n",
    "import os\n",
    "import numpy as np\n",
    "import pandas as pd\n",
    "import matplotlib.pyplot as plt\n",
    "import seaborn as sns\n",
    "import scipy.io as io\n",
    "import pickle"
   ]
  },
  {
   "cell_type": "code",
   "execution_count": 122,
   "metadata": {
    "collapsed": true
   },
   "outputs": [],
   "source": [
    "SBJ = 'IR84'"
   ]
  },
  {
   "cell_type": "code",
   "execution_count": 123,
   "metadata": {
    "collapsed": true
   },
   "outputs": [],
   "source": [
    "prj_dir = '/Volumes/hoycw_clust/PRJ_Error/'\n",
    "results_dir = prj_dir+'results/'\n",
    "fig_type = '.png'\n",
    "data_dir = prj_dir+'data/'\n",
    "sbj_dir  = data_dir+SBJ+'/'\n",
    "# paths = {'Rana': '/Users/colinhoy/Code/PRJ_Error/data/logs/',\n",
    "#          'Adi': '/Users/colinhoy/Code/PRJ_Error/data/logs/',\n",
    "#          'IR57': '/Users/colinhoy/Code/PRJ_Error/data/logs/'}\n",
    "logs = {'Rana_1.6': 'Rana2_response_log_20170321103129_DATA.txt',\n",
    "        'Adi_1.7': 'adi_response_log_20170321153641.txt',\n",
    "        'CP22': '222_response_log_20170609140407.txt',\n",
    "        'CP23': '223_response_log_20170930123015.txt',\n",
    "        'CP241': '224-1_response_log_20171206121023.txt',\n",
    "        'CP242': 'cp24_2_response_log_20171209120902.txt',\n",
    "        'CP25': 'CP25_response_log_20180811082953.txt',\n",
    "        'IR57': '857_response_log_20170322112243_CWHedit.txt',#CWHedit added n_training, n_examples lines\n",
    "        'IR60': '60_response_log_20170613100307.txt',\n",
    "        'IR62': 'ir62_response_log_20170713124719.txt',\n",
    "        'IR63': 'IR63_response_log_20170921095757.txt',\n",
    "        'IR65': '865_response_log_20171207130759.txt',\n",
    "        'IR66': 'ir66_response_log_20171219124409.txt',\n",
    "        'IR67': 'ir673_response_log_20180124103600.txt',\n",
    "        'IR68': 'IR68_response_log_20180124140950.txt',\n",
    "        'IR69': '869p2_response_log_20180211111609.txt',#this is 2nd run, another one before!\n",
    "        'IR71': '71_response_log_20180221115510.txt',\n",
    "        'IR72': 'Ir72_response_log_20180325133520.txt',#2 log files, this has easy, other has hard blocks\n",
    "        'IR74': 'ir742_response_log_20180327170333.txt',\n",
    "        'IR75': 'IR75_response_log_20180531221813.txt',\n",
    "        'IR76': 'IR76_response_log_20180603181356.txt',\n",
    "        'IR77': '877_response_log_20180620121202.txt',#1/3 logs, has 2 easy, 8773 has 2 hards\n",
    "        'IR78': 'IR78_response_log_20180628052715.txt',\n",
    "        'IR79': 'IR79_response_log_20180710112314.txt',\n",
    "        'IR82': 'IR82_response_log_20180928162311.txt',\n",
    "        'IR84': 'IR84_response_log_20181025094454.txt',\n",
    "        'P1': 'Pilot1_2_response_log_20170412131644.txt',\n",
    "        'P2': 'pilot2_response_log_20170412140615.txt',\n",
    "        'P3': 'pilot3_response_log_20170413110228.txt',\n",
    "        'P4': 'Pilot4_2_response_log_20170418140941.txt',\n",
    "        'P5': 'colin_real_response_log_20170412103113.txt',\n",
    "        'P6': 'pilot_adi_response_log_20170414122257.txt',\n",
    "        'P7': 'pilot_Rana_response_log_20170415155844.txt',\n",
    "        'P8': 'Giao_response_log_20170419161340.txt',\n",
    "        'P9': 'Sundberg_response_log_20170419150222.txt',\n",
    "        'colin_vec': 'colin_circle_wVec_response_log_20171222141248.txt',\n",
    "        'colin_novec': 'colin_noVec_response_log_20171222142110.txt'\n",
    "       }"
   ]
  },
  {
   "cell_type": "markdown",
   "metadata": {},
   "source": [
    "### Load SBJ Data"
   ]
  },
  {
   "cell_type": "code",
   "execution_count": 124,
   "metadata": {
    "collapsed": false
   },
   "outputs": [],
   "source": [
    "log_filename = os.path.join(sbj_dir,'00_raw',logs[SBJ])\n",
    "\n",
    "log_file = open(log_filename,'r')\n",
    "log = log_file.readlines()\n",
    "log_file.close()"
   ]
  },
  {
   "cell_type": "markdown",
   "metadata": {},
   "source": [
    "### Process Version-Specific Parameters"
   ]
  },
  {
   "cell_type": "code",
   "execution_count": 125,
   "metadata": {
    "collapsed": false
   },
   "outputs": [],
   "source": [
    "prdm = {}\n",
    "for line in log:\n",
    "    # Script version\n",
    "    if line.find('paradigm_name =')!=-1:\n",
    "        prdm['prdm_name'] = line[line.find('= ')+2:line.find('\\n')]\n",
    "    if line.find('paradigm_version =')!=-1:\n",
    "        prdm['prdm_version'] = line[line.find('= ')+2:line.find('\\n')]\n",
    "\n",
    "    # Timing variables\n",
    "    if line.find('interval_dur =')!=-1:\n",
    "        prdm['target'] = float(line[line.find('= ')+2:line.find('\\n')])\n",
    "    if line.find('feedback_delay =')!=-1:\n",
    "        prdm['fb_delay'] = float(line[line.find('= ')+2:line.find('\\n')])\n",
    "    if line.find('feedback_dur =')!=-1:\n",
    "        prdm['fb'] = float(line[line.find('= ')+2:line.find('\\n')])\n",
    "    \n",
    "    # ITIs and boundaries between them\n",
    "    if line.find('ITIs')!=-1:\n",
    "        prdm['ITIs'] = [float(string) \\\n",
    "                    for string in line[line.find('[')+1:line.find(']')].split(',')]\n",
    "        ITI_bounds = np.mean([prdm['ITIs'][:-1], prdm['ITIs'][1:]],0)\n",
    "        \n",
    "    # Tolerance limits/clamps\n",
    "    if line.find('tolerance_lim')!=-1:\n",
    "        prdm['tol_lim'] = [float(string) \\\n",
    "                         for string in line[line.find('[')+1:line.find(']')].split(',')]\n",
    "        \n",
    "    # Trial count variables\n",
    "    if line.find('n_blocks')!=-1:\n",
    "        prdm['n_blocks'] = int(line[line.find('=')+2:])\n",
    "    if line.find('n_trials')!=-1:\n",
    "        prdm['n_trials'] = int(line[line.find('=')+2:])\n",
    "    if line.find('n_examples')!=-1:\n",
    "        prdm['n_examples'] = int(line[line.find('=')+2:])\n",
    "    if line.find('n_training')!=-1:\n",
    "        prdm['n_training'] = int(line[line.find('=')+2:])\n",
    "\n",
    "prdm['trl_len'] = prdm['target']+\\\n",
    "            prdm['fb_delay']+prdm['fb']"
   ]
  },
  {
   "cell_type": "markdown",
   "metadata": {},
   "source": [
    "### Save paradigm parameters"
   ]
  },
  {
   "cell_type": "code",
   "execution_count": 126,
   "metadata": {
    "collapsed": false
   },
   "outputs": [],
   "source": [
    "# Python readable\n",
    "prdm_fname = os.path.join(sbj_dir,'03_events',SBJ+'_prdm_vars.pkl')\n",
    "with open(prdm_fname, 'wb') as f:\n",
    "    pickle.dump(prdm, f, pickle.HIGHEST_PROTOCOL)\n",
    "# MATLAB Readable\n",
    "prdm_fname = os.path.join(sbj_dir,'03_events',SBJ+'_prdm_vars.mat')\n",
    "io.savemat(prdm_fname,prdm)"
   ]
  },
  {
   "cell_type": "code",
   "execution_count": 127,
   "metadata": {
    "collapsed": false
   },
   "outputs": [
    {
     "name": "stdout",
     "output_type": "stream",
     "text": [
      "paradigm:  target_time_cyclone  v 2.4.5\n",
      "\n",
      "interval:  1.0 s\n",
      "feedback_delay:  0.8 s\n",
      "feedback duration:  1.0 s\n",
      "total trial length:  2.8 s\n",
      "\n",
      "n_blocks:  2\n",
      "n_trials/block:  75\n",
      "n_full_vis_examples: "
     ]
    },
    {
     "ename": "KeyError",
     "evalue": "'n_examples'",
     "output_type": "error",
     "traceback": [
      "\u001b[0;31m---------------------------------------------------------------------------\u001b[0m",
      "\u001b[0;31mKeyError\u001b[0m                                  Traceback (most recent call last)",
      "\u001b[0;32m<ipython-input-127-79a72af37971>\u001b[0m in \u001b[0;36m<module>\u001b[0;34m()\u001b[0m\n\u001b[1;32m      8\u001b[0m \u001b[0;32mprint\u001b[0m \u001b[0;34m'n_blocks: '\u001b[0m\u001b[0;34m,\u001b[0m \u001b[0mprdm\u001b[0m\u001b[0;34m[\u001b[0m\u001b[0;34m'n_blocks'\u001b[0m\u001b[0;34m]\u001b[0m\u001b[0;34m\u001b[0m\u001b[0m\n\u001b[1;32m      9\u001b[0m \u001b[0;32mprint\u001b[0m \u001b[0;34m'n_trials/block: '\u001b[0m\u001b[0;34m,\u001b[0m \u001b[0mprdm\u001b[0m\u001b[0;34m[\u001b[0m\u001b[0;34m'n_trials'\u001b[0m\u001b[0;34m]\u001b[0m\u001b[0;34m\u001b[0m\u001b[0m\n\u001b[0;32m---> 10\u001b[0;31m \u001b[0;32mprint\u001b[0m \u001b[0;34m'n_full_vis_examples: '\u001b[0m\u001b[0;34m,\u001b[0m \u001b[0mprdm\u001b[0m\u001b[0;34m[\u001b[0m\u001b[0;34m'n_examples'\u001b[0m\u001b[0;34m]\u001b[0m\u001b[0;34m\u001b[0m\u001b[0m\n\u001b[0m\u001b[1;32m     11\u001b[0m \u001b[0;32mprint\u001b[0m \u001b[0;34m'n_training/condition: '\u001b[0m\u001b[0;34m,\u001b[0m \u001b[0mprdm\u001b[0m\u001b[0;34m[\u001b[0m\u001b[0;34m'n_training'\u001b[0m\u001b[0;34m]\u001b[0m\u001b[0;34m\u001b[0m\u001b[0m\n\u001b[1;32m     12\u001b[0m \u001b[0;32mprint\u001b[0m\u001b[0;34m\u001b[0m\u001b[0m\n",
      "\u001b[0;31mKeyError\u001b[0m: 'n_examples'"
     ]
    }
   ],
   "source": [
    "print 'paradigm: ', prdm['prdm_name'], ' v', prdm['prdm_version']\n",
    "print\n",
    "print 'interval: ', prdm['target'], 's'\n",
    "print 'feedback_delay: ', prdm['fb_delay'], 's'\n",
    "print 'feedback duration: ', prdm['fb'], 's'\n",
    "print 'total trial length: ', prdm['trl_len'], 's'\n",
    "print\n",
    "print 'n_blocks: ', prdm['n_blocks']\n",
    "print 'n_trials/block: ', prdm['n_trials']\n",
    "print 'n_full_vis_examples: ', prdm['n_examples']\n",
    "print 'n_training/condition: ', prdm['n_training']\n",
    "print\n",
    "# ITI_bounds = [np.mean(a,b) for a, b in zip(ITIs[:-1],ITIs[1:])]\n",
    "print 'ITIs:',prdm['ITIs'], ITI_bounds\n",
    "print 'tolerance_lim:', prdm['tol_lim']"
   ]
  },
  {
   "cell_type": "markdown",
   "metadata": {},
   "source": [
    "### Extract Trial Info"
   ]
  },
  {
   "cell_type": "code",
   "execution_count": 128,
   "metadata": {
    "collapsed": false
   },
   "outputs": [
    {
     "name": "stdout",
     "output_type": "stream",
     "text": [
      "\n"
     ]
    }
   ],
   "source": [
    "resp_lines = [line for line in log if line.find('Outcome=')!=-1]\n",
    "data = pd.DataFrame({'Block': [line[line.find('B')+1] for line in resp_lines],\n",
    "                     'Trial': [int(line[line.find('_T')+2:line.find(':')]) for line in resp_lines],\n",
    "                     'Condition': [line[line.find('_type')+8:line.find('_type')+12] for line in resp_lines],\n",
    "                     'Hit': [line.count('WIN') for line in resp_lines],\n",
    "                     'RT': [line[line.find('RT')+5:line.find('RT')+5+13].strip() for line in resp_lines],\n",
    "                     'Tolerance': [float(line[line.find('tol')+12:line.find('\\n')]) for line in resp_lines],\n",
    "                     'Timestamp': [float(line[:line.find('.')+4]) for line in resp_lines]})\n",
    "data['Score'] = [100 if data['Hit'][ix]==1 else -100 for ix in range(len(data))]\n",
    "\n",
    "# Calculate ITIs\n",
    "data['ITI'] = [data['Timestamp'][ix]-data['Timestamp'][ix-1]-prdm['trl_len'] if ix!=0 else 0 \\\n",
    "               for ix in range(len(data))]\n",
    "data.loc[data['Trial']==0,'ITI'] = 0\n",
    "data.loc[data['Block']==-1,'ITI'] = 0\n",
    "# Match real ITIs to ITI categories\n",
    "ITI_bin_edges = np.insert(ITI_bounds, ITI_bounds.shape[0], prdm['ITIs'][-1]+0.1)\n",
    "ITI_bin_edges = np.insert(ITI_bin_edges, 0, 0)\n",
    "data['ITI type'] = [prdm['ITIs'][np.argmax(np.histogram(data['ITI'][ix],bins=ITI_bin_edges)[0])]\\\n",
    "        if data['ITI'][ix]!=0 else 0 for ix in range(len(data))]\n",
    "# if len(prdm['ITIs'])==4:    # target_time v1.8.5+\n",
    "# elif len(prdm['ITIs'])==3:  # target_time v1.8.4 and below\n",
    "# else:               # Errors for anything besides len(ITIs)==3,4\n",
    "#     assert len(prdm['ITIs'])==4\n",
    "            \n",
    "# Fix Reversals, Block, and missed RTs\n",
    "for ix in range(len(data)):\n",
    "    if data['RT'][ix][0:2]=='-1':#No response\n",
    "        data.loc[ix,'RT'] = -1\n",
    "        data.loc[ix,'Score'] = 0            # !!! may change depending on version !!!!\n",
    "    else:# Real Responses\n",
    "        if data['RT'][ix].find(';')!=-1:# shorter number of digits, clip ';'\n",
    "            data.loc[ix,'RT'] = float(data['RT'][ix][:data['RT'][ix].find(';')])\n",
    "        else:\n",
    "            data.loc[ix,'RT'] = float(data['RT'][ix])\n",
    "    if data['Block'][ix]=='T':# Training\n",
    "        data.loc[ix,'Block'] = -1\n",
    "    else:\n",
    "        data.loc[ix,'Block'] = int(data['Block'][ix])"
   ]
  },
  {
   "cell_type": "code",
   "execution_count": 129,
   "metadata": {
    "collapsed": false
   },
   "outputs": [],
   "source": [
    "# print(SBJ,' n_trials = ',len(data))\n",
    "# for cond in data['Condition'].unique():\n",
    "#     print('==============', cond, '==============')\n",
    "#     print('Accuracy:', data[data['Condition']==cond]['Hit'].mean())\n",
    "#     print('--> correct = ', data[data['Condition']==cond]['Hit'].sum(),\\\n",
    "#           '/', len(data[data['Condition']==cond]['Hit']))\n",
    "#     print('n_reverse:', data[data['Condition']==cond]['Reversal'].sum())"
   ]
  },
  {
   "cell_type": "markdown",
   "metadata": {},
   "source": [
    "### Save Behavioral Data"
   ]
  },
  {
   "cell_type": "code",
   "execution_count": 130,
   "metadata": {
    "collapsed": false
   },
   "outputs": [],
   "source": [
    "behav_fname = os.path.join(sbj_dir,'03_events',SBJ+'_behav.csv')\n",
    "\n",
    "data.to_csv(behav_fname,index_label='Total_Trial')"
   ]
  },
  {
   "cell_type": "code",
   "execution_count": 131,
   "metadata": {
    "collapsed": false,
    "scrolled": true
   },
   "outputs": [],
   "source": [
    "# pd.set_option('max_rows', 75)\n",
    "# data[data['Block']==1]\n"
   ]
  },
  {
   "cell_type": "code",
   "execution_count": null,
   "metadata": {
    "collapsed": true
   },
   "outputs": [],
   "source": []
  }
 ],
 "metadata": {
  "kernelspec": {
   "display_name": "Python 2",
   "language": "python",
   "name": "python2"
  },
  "language_info": {
   "codemirror_mode": {
    "name": "ipython",
    "version": 2
   },
   "file_extension": ".py",
   "mimetype": "text/x-python",
   "name": "python",
   "nbconvert_exporter": "python",
   "pygments_lexer": "ipython2",
   "version": "2.7.13"
  }
 },
 "nbformat": 4,
 "nbformat_minor": 0
}
